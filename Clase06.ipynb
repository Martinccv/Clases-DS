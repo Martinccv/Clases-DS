{
  "cells": [
    {
      "cell_type": "markdown",
      "metadata": {
        "id": "ATZwdlzUqSa1"
      },
      "source": [
        "# Pandas\n",
        "\n",
        "Sigamos con Pandas.\n",
        "\n",
        "## Valores faltantes\n",
        "\n",
        "Vimos que por lo general en los datasets tienen datos faltantes. Datos faltantes puede haber por muchas razones (errores, no tenemos el dato, perdimos el dato, etc).\n",
        "\n",
        "Muchas veces, necesitamos completar estos valores faltantes con alguna aproximación que no altere nuestros resultados.\n",
        "\n",
        "Existen muchas formas de imputar valores a datos faltantes:\n",
        "\n",
        "- Podemos usar la media o mediana (imputación univariante)\n",
        "- Podemos usar un valor fijo (imputación univariante)\n",
        "- Podemos descartar la fila con datos faltantes (observar que descartar sin ningún criterio puede hacer que perdamos muchos datos)\n",
        "- Podemos completar el valor faltante en función de los valores de otras columnas (imputación multivariante)\n",
        "\n",
        "Tenemos que tener en cuenta que siempre es importante entender el problema. En datascience vamos a ver que muchas decisiones que tomemos DEPENDEN DEL PROBLEMA y son muy importantes ya que pueden alterar nuestros resultados finales.\n",
        "\n",
        "En esta clase, vamos a trabajar con un dataset de review de vinos.\n",
        "\n",
        "Lo podemos descargar en: https://www.kaggle.com/zynicide/wine-reviews/ (nos tenemos que registrar)\n",
        "\n",
        "Si usan colab, recuerden subir el csv a drive y montar drive para poder leerlo con pandas."
      ]
    },
    {
      "cell_type": "code",
      "execution_count": 1,
      "metadata": {
        "id": "hed9aVYwl85V"
      },
      "outputs": [],
      "source": [
        "import pandas as pd"
      ]
    },
    {
      "cell_type": "code",
      "execution_count": null,
      "metadata": {
        "id": "KwJptZ8DE-ny"
      },
      "outputs": [],
      "source": [
        "wine_reviews_df = pd.read_csv('winemag-data_first150k.csv')"
      ]
    },
    {
      "cell_type": "code",
      "execution_count": null,
      "metadata": {
        "id": "-Juwek6rGYk0"
      },
      "outputs": [],
      "source": [
        "# from google.colab import drive\n",
        "# drive.mount('/content/drive')"
      ]
    },
    {
      "cell_type": "code",
      "execution_count": 6,
      "metadata": {
        "id": "zKiYI4DSHCaH"
      },
      "outputs": [],
      "source": [
        "# wine_reviews_df = pd.read_csv('/content/drive/MyDrive/Curso DS/datasets/winemag-data_first150k.csv')"
      ]
    },
    {
      "cell_type": "markdown",
      "metadata": {
        "id": "vuspUdG5FbVT"
      },
      "source": [
        "Exploremos un poco el dataset.\n",
        "\n",
        "Imprimimos las primeras 5 filas:"
      ]
    },
    {
      "cell_type": "code",
      "execution_count": null,
      "metadata": {
        "id": "4JnNnssaE-p5"
      },
      "outputs": [],
      "source": [
        "wine_reviews_df.head()"
      ]
    },
    {
      "cell_type": "markdown",
      "metadata": {
        "id": "ib2DSjCKFkQ1"
      },
      "source": [
        "¿ Cuántas filas tiene el dataset? ¿ Y cuántas columnas ?\n",
        "\n",
        "Esta pregunta, podemos responderla utilizando `shape`\n",
        "\n"
      ]
    },
    {
      "cell_type": "code",
      "execution_count": null,
      "metadata": {
        "id": "KOd19FjdE-r9"
      },
      "outputs": [],
      "source": [
        "wine_reviews_df.shape"
      ]
    },
    {
      "cell_type": "markdown",
      "metadata": {
        "id": "lWa1q3NBFx55"
      },
      "source": [
        "Vemos que el dataset tiene 150930 filas y 11 columnas.\n",
        "\n",
        "¿ Cuántos valores faltantes tiene el dataset en cada columna ?"
      ]
    },
    {
      "cell_type": "code",
      "execution_count": null,
      "metadata": {
        "id": "vMSj8VjpE-uJ"
      },
      "outputs": [],
      "source": [
        "wine_reviews_df.isna().sum()"
      ]
    },
    {
      "cell_type": "markdown",
      "metadata": {
        "id": "LEGqIUv5Ict3"
      },
      "source": [
        "Ahora, ¿Qué hacemos con los faltantes?\n",
        "\n",
        "Pandas tiene el método .fillna() para imputar valores faltantes y el método .dropna() para eliminar filas con valores faltantes.\n",
        "\n",
        "Veamos un poco de documentación:"
      ]
    },
    {
      "cell_type": "code",
      "execution_count": null,
      "metadata": {
        "id": "nNHhePTQJLUl"
      },
      "outputs": [],
      "source": [
        "help(pd.DataFrame.dropna)"
      ]
    },
    {
      "cell_type": "code",
      "execution_count": null,
      "metadata": {
        "id": "nBcfCvD5JUDE"
      },
      "outputs": [],
      "source": [
        "help(pd.DataFrame.fillna)"
      ]
    },
    {
      "cell_type": "markdown",
      "metadata": {
        "id": "vqUWxzsUJapc"
      },
      "source": [
        "Ahora, para no modificar nuestro dataset original, lo vamos a clonar"
      ]
    },
    {
      "cell_type": "code",
      "execution_count": null,
      "metadata": {
        "id": "hwv4LFcbJZ9z"
      },
      "outputs": [],
      "source": [
        "df = wine_reviews_df.copy()"
      ]
    },
    {
      "cell_type": "markdown",
      "metadata": {
        "id": "MS6CQbUFJmN3"
      },
      "source": [
        "Ahora vamos a trabajar sobre df."
      ]
    },
    {
      "cell_type": "code",
      "execution_count": null,
      "metadata": {
        "id": "NbQzl4DpJkcf"
      },
      "outputs": [],
      "source": [
        "df.isna().sum()"
      ]
    },
    {
      "cell_type": "code",
      "execution_count": null,
      "metadata": {
        "id": "_GPD9qB6Lgam"
      },
      "outputs": [],
      "source": [
        "df.info()"
      ]
    },
    {
      "cell_type": "markdown",
      "metadata": {
        "id": "gWankpLXKyEI"
      },
      "source": [
        "Vemos que las columnas que tienen datos faltantes son designation, price, region_1 y region_2.\n",
        "\n",
        "Por ahora, como solo estamos aprendiendo Pandas, no vamos a explorar mucho los datos para tomar decisiones. Simplemente vamos a aprender como se usa pandas. En próximas clases vamos a empezar a explorar los datos con mas detalle para tomar buenas decisiones.\n",
        "\n",
        "Empecemos con el método fillna:\n",
        "\n",
        "Vamos a imputar los valores faltantes de la columna \"price\" con la media de la columna."
      ]
    },
    {
      "cell_type": "code",
      "execution_count": null,
      "metadata": {
        "id": "xL5Me4_kJ0jZ"
      },
      "outputs": [],
      "source": [
        "mean_price = df['price'].mean()\n",
        "df['price'] = df['price'].fillna(mean_price)"
      ]
    },
    {
      "cell_type": "markdown",
      "metadata": {
        "id": "rdVAym1dMZFR"
      },
      "source": [
        "Verificamos que no haya más nulos"
      ]
    },
    {
      "cell_type": "code",
      "execution_count": null,
      "metadata": {
        "id": "Cov9KU7_MYEb"
      },
      "outputs": [],
      "source": [
        "df.isna().sum()"
      ]
    },
    {
      "cell_type": "markdown",
      "metadata": {
        "id": "8zD0VNfAMe1U"
      },
      "source": [
        "Vemos que ahora hay 0 null values en la columna price"
      ]
    },
    {
      "cell_type": "markdown",
      "metadata": {
        "id": "IF1Y4mkqMkCR"
      },
      "source": [
        "Ahora, completemos las columnas \"designation\", \"region_1\" y \"region_2\" con el valor por defecto: \"dato faltante\".\n",
        "\n",
        "Podemos hacerlo pasandole un diccionario como parametro:"
      ]
    },
    {
      "cell_type": "code",
      "execution_count": null,
      "metadata": {
        "id": "mWZxhyFdMuef"
      },
      "outputs": [],
      "source": [
        "default_value = \"dato faltante\"\n",
        "df = df.fillna(value={'designation': default_value, \"region_1\": default_value, \"region_2\": default_value})"
      ]
    },
    {
      "cell_type": "code",
      "execution_count": null,
      "metadata": {
        "id": "-unccDKTNHVV"
      },
      "outputs": [],
      "source": [
        "df.isna().sum()"
      ]
    },
    {
      "cell_type": "markdown",
      "metadata": {
        "id": "cA8kunDvNJip"
      },
      "source": [
        "Ahora nos queda la columna country. En este caso, lo que vamos a hacer es descartar las filas que tengan valores faltantes en esta columna.\n",
        "\n",
        "Para esto, vamos a usar el método dropna() y vamos a pasarle el parámetro axis=0\n",
        "\n",
        "Veamos cuantas filas tiene el dataset antes de borrar nulos:"
      ]
    },
    {
      "cell_type": "code",
      "execution_count": null,
      "metadata": {
        "id": "Hx4TxbWqNcUf"
      },
      "outputs": [],
      "source": [
        "df.shape[0]"
      ]
    },
    {
      "cell_type": "markdown",
      "metadata": {
        "id": "PnnoOkdVNhH_"
      },
      "source": [
        "Borramos nulos:"
      ]
    },
    {
      "cell_type": "code",
      "execution_count": null,
      "metadata": {
        "id": "IPnXIc7NNiR8"
      },
      "outputs": [],
      "source": [
        "df = df.dropna(axis=0)"
      ]
    },
    {
      "cell_type": "markdown",
      "metadata": {
        "id": "_zQnuNp4NlBm"
      },
      "source": [
        "Y ahora debería haber 5 filas menos:"
      ]
    },
    {
      "cell_type": "code",
      "execution_count": null,
      "metadata": {
        "id": "JwCyxVScNna5"
      },
      "outputs": [],
      "source": [
        "df.shape[0]"
      ]
    },
    {
      "cell_type": "code",
      "execution_count": null,
      "metadata": {
        "id": "r9k2B3h_eoEC"
      },
      "outputs": [],
      "source": [
        "df.isna().sum()"
      ]
    },
    {
      "cell_type": "markdown",
      "metadata": {
        "id": "2kiI9tk4CwyS"
      },
      "source": [
        "## Filtro por máscara\n",
        "\n",
        "Vimos que en numpy podemos utilizar filtros. En pandas también podemos hacerlo y es algo que vamos utilizar mucho asique es importante aprender a usarlo bien!\n",
        "\n",
        "Los filtros se utilizan igual que en numpy.\n",
        "\n",
        "Seleccionemos todas las filas en las que country sea = 'US'"
      ]
    },
    {
      "cell_type": "code",
      "execution_count": null,
      "metadata": {
        "id": "KMmFT1AKCyxm"
      },
      "outputs": [],
      "source": [
        "df[df['country'] == 'US']"
      ]
    },
    {
      "cell_type": "markdown",
      "metadata": {
        "id": "nME-svotWI60"
      },
      "source": [
        "## Correlación\n",
        "\n",
        "Pandas nos provee una función para medir la correlación entre variables numéricas"
      ]
    },
    {
      "cell_type": "code",
      "execution_count": null,
      "metadata": {
        "id": "cyUnbNUjWIbU"
      },
      "outputs": [],
      "source": [
        "df[['points', 'price']].corr()"
      ]
    },
    {
      "cell_type": "markdown",
      "metadata": {
        "id": "fAh57kcSPihx"
      },
      "source": [
        "#### Ejercicio\n",
        "\n",
        "Investigar las funciones:\n",
        "- value_counts\n",
        "- unique\n",
        "- nunique\n",
        "- max\n",
        "- min\n",
        "- sort_values\n",
        "\n",
        "Responder las siguientes preguntas utilizando lo que sabemos de pandas + lo que investigamos de las funciones de arriba (con la menor cantidad de funciones posibles):\n",
        "\n",
        "a) ¿ Qúe valores distintos (únicos) hay en la columna country ?\n",
        "\n",
        "b) ¿ Cuántos valores distintos hay en la columna country ?\n",
        "\n",
        "c) ¿ Con qué frecuencia (cuantas veces) aparece cada uno de los paises ?\n",
        "\n",
        "d) ¿ Cuál es el valor máximo de la columna price ?\n",
        "\n",
        "e) ¿ Cuál es el valor mínimo de la columna price ?\n",
        "\n",
        "f) ¿ Cuál es el vino más caro ?\n",
        "\n",
        "g) ¿ Cuántos vinos tienen un precio por encima de la media ?\n"
      ]
    },
    {
      "cell_type": "markdown",
      "metadata": {
        "id": "2OIHU4AS08Fj"
      },
      "source": [
        "# Apply\n",
        "\n",
        "El método apply de los dataframes de pandas, nos permite realizar una acción sobre cada fila o columna (sobre un \"axis\") del dataset.\n",
        "\n",
        "https://pandas.pydata.org/pandas-docs/stable/reference/api/pandas.DataFrame.apply.html\n",
        "\n",
        "Por ejemplo, queremos crear una nueva columna que se llame \"description_len\" y contenga la cantidad de caracteres que hay en cada fila de la columna \"description\".\n",
        "\n",
        "Primero: Definamos una función que cuente los caracteres de un string:"
      ]
    },
    {
      "cell_type": "code",
      "execution_count": null,
      "metadata": {
        "id": "eftxZzC63QV5"
      },
      "outputs": [],
      "source": [
        "def count_string_len(string:str) -> int:\n",
        "\n",
        "    \"\"\"\n",
        "    La función retorna un número entero con la cantidad de caracteres del string.\n",
        "    \"\"\"\n",
        "  # COMPLETAR"
      ]
    },
    {
      "cell_type": "code",
      "execution_count": null,
      "metadata": {
        "id": "ZZUBqfV5eoEF"
      },
      "outputs": [],
      "source": [
        "df['description_len'] = df['description'].apply(count_string_len)"
      ]
    },
    {
      "cell_type": "code",
      "execution_count": null,
      "metadata": {
        "id": "FQ4KQeHk5Dvd"
      },
      "outputs": [],
      "source": [
        "df.head()"
      ]
    },
    {
      "cell_type": "markdown",
      "metadata": {
        "id": "rmFZUH5C5Kly"
      },
      "source": [
        "Para utilizar apply, no hace falta definir una función aparte. También podemos hacerlo directamente utilizando funciónes \"lambda\":"
      ]
    },
    {
      "cell_type": "code",
      "execution_count": null,
      "metadata": {
        "id": "SGlUbp6x5SX_"
      },
      "outputs": [],
      "source": [
        "df['description_len'] = df['description'].apply(lambda x: len(x))"
      ]
    },
    {
      "cell_type": "code",
      "execution_count": null,
      "metadata": {
        "id": "nEFYgf6f5VkD"
      },
      "outputs": [],
      "source": [
        "df.head()"
      ]
    },
    {
      "cell_type": "markdown",
      "metadata": {
        "id": "n2yaEC8O5Z3r"
      },
      "source": [
        "#### Ejercicio: Utilizar una función lambda para crear una nueva columna que se llame float_point y contenga los mismos datos que la columna \"points\" pero en formato float"
      ]
    },
    {
      "cell_type": "markdown",
      "metadata": {
        "id": "1j1oQFvz1KQo"
      },
      "source": [
        "# Group by\n",
        "\n",
        "\n",
        "La función group by de pandas, nos permite agrupar dataframes a partir de una o más columnas y mediante funciones de agregación obtener insights de cada grupo.\n",
        "\n",
        "Veamos ejemplos:"
      ]
    },
    {
      "cell_type": "code",
      "execution_count": null,
      "metadata": {
        "id": "e4XJu0mj5ogm"
      },
      "outputs": [],
      "source": [
        "group_by_country = df.groupby('country')"
      ]
    },
    {
      "cell_type": "code",
      "execution_count": null,
      "metadata": {
        "id": "RwO2pTeneoEG"
      },
      "outputs": [],
      "source": [
        "group_by_country"
      ]
    },
    {
      "cell_type": "markdown",
      "metadata": {
        "id": "kaA3Qxj86iqu"
      },
      "source": [
        "Vemos que groupby nos devuelve un objeto pandas.core.groupby.generic.DataFrameGroupBy.\n",
        "\n",
        "Sobre este objeto, podemos aplicar directamente funciones de agregación como .count(), .sum(), .mean(), etcétera:"
      ]
    },
    {
      "cell_type": "code",
      "execution_count": null,
      "metadata": {
        "id": "xesUrobT6FsO"
      },
      "outputs": [],
      "source": [
        "group_by_country.count().head()"
      ]
    },
    {
      "cell_type": "code",
      "execution_count": null,
      "metadata": {
        "id": "nbUxLjii6Fuw"
      },
      "outputs": [],
      "source": [
        "group_by_country.mean()"
      ]
    },
    {
      "cell_type": "markdown",
      "metadata": {
        "id": "o92zQZfr61XD"
      },
      "source": [
        "¿ Por qué cuando aplicamos la función mean solo nos trae 4 columnas y el indice ?"
      ]
    },
    {
      "cell_type": "markdown",
      "metadata": {
        "id": "SHBe87z767Uf"
      },
      "source": [
        "También podemos agrupar por múltiples columnas:"
      ]
    },
    {
      "cell_type": "code",
      "execution_count": null,
      "metadata": {
        "id": "CDbU0ywe6FyV"
      },
      "outputs": [],
      "source": [
        "group_by_country_prov = df.groupby(['country', 'province'])\n",
        "group_by_country_prov.mean().head()"
      ]
    },
    {
      "cell_type": "markdown",
      "metadata": {
        "id": "XwRVfQBM7Fr5"
      },
      "source": [
        "Y si no queremos que las variables por las que agrupamos se conviertan en indices y sean una columna más, podemos especificarlo en la función:"
      ]
    },
    {
      "cell_type": "code",
      "execution_count": null,
      "metadata": {
        "id": "o1bJs_kQ7LYh"
      },
      "outputs": [],
      "source": [
        "group_by_country_prov = df.groupby(['country', 'province'], as_index=False)\n",
        "group_by_country_prov.sum().head()"
      ]
    },
    {
      "cell_type": "markdown",
      "metadata": {
        "id": "IyvJElzB7P-K"
      },
      "source": [
        "Finalmente, también podemos aplicar distintas funciones de agregación a cada columna.\n",
        "\n",
        "EJERCICIO: Averiguar como podemos aplicar una función de agregación distinta a cada columna y:\n",
        "\n",
        "1) Agrupar el dataset por pais\n",
        "2) Obtener una columna que tenga el precio medio por país y otra que contenga la sumatoria de puntos. (.mean() y .sum() )."
      ]
    },
    {
      "cell_type": "markdown",
      "metadata": {
        "id": "RV59nFtG1LxT"
      },
      "source": [
        "# Sort values\n",
        "\n",
        "Para ordenar un dataframe de pandas, podemos utilizar la función sort_values()\n",
        "\n",
        "EJERCICIO:\n",
        "\n",
        "Ordenar el dataset por \"points\" de manera descendente."
      ]
    },
    {
      "cell_type": "code",
      "execution_count": null,
      "metadata": {
        "id": "0astsl4L7p_0"
      },
      "outputs": [],
      "source": [
        "help(pd.DataFrame.sort_values)"
      ]
    }
  ],
  "metadata": {
    "colab": {
      "provenance": []
    },
    "kernelspec": {
      "display_name": "Python 3 (ipykernel)",
      "language": "python",
      "name": "python3"
    },
    "language_info": {
      "codemirror_mode": {
        "name": "ipython",
        "version": 3
      },
      "file_extension": ".py",
      "mimetype": "text/x-python",
      "name": "python",
      "nbconvert_exporter": "python",
      "pygments_lexer": "ipython3",
      "version": "3.8.13"
    },
    "vscode": {
      "interpreter": {
        "hash": "892d461b55a6ce994a56bafd67ae2f3489d9f23234c096cfb51dfe498c166e4b"
      }
    }
  },
  "nbformat": 4,
  "nbformat_minor": 0
}
