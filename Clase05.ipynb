{
  "cells": [
    {
      "cell_type": "markdown",
      "metadata": {
        "id": "KPJINwzry-oY"
      },
      "source": [
        "# Estadística\n",
        "\n",
        "La clase pasada vimos que numpy tiene muchas funciones que nos simplifican la vida a los data scientists.\n",
        "\n",
        "Numpy, también incluye funciones para calcular la media, desviación estandar, moda, percentiles, etc.\n",
        "\n",
        "Veamos algunas de ellas...\n",
        "\n",
        "## La media\n",
        "\n",
        "Dados $n$ números $x_1,x_2,...,x_n$, el promedio o media es\n",
        "\n",
        "$$\\overline{x} = \\frac{1}{n}\\sum_{i=1}^{n} x_i = \\frac{x_1 + x_2 + ... + x_n}{n}$$\n",
        "\n",
        "Primero calculemos la media de un array sin usar la función de numpy.\n",
        "\n",
        "Ejercicio: Hacer una función que reciba un array de numpy como parámetro y retorne su media\n"
      ]
    },
    {
      "cell_type": "code",
      "execution_count": null,
      "metadata": {
        "id": "c2YgFKeC2l9Z"
      },
      "outputs": [],
      "source": [
        "import numpy as np"
      ]
    },
    {
      "cell_type": "code",
      "execution_count": null,
      "metadata": {
        "id": "suChAOJvy_-s"
      },
      "outputs": [],
      "source": [
        "np_array = np.arange(100)"
      ]
    },
    {
      "cell_type": "code",
      "execution_count": null,
      "metadata": {
        "id": "QZUA3OhN3C_p"
      },
      "outputs": [],
      "source": [
        "def media(numbers_array):\n",
        "\n",
        "print(media(np_array))"
      ]
    },
    {
      "cell_type": "markdown",
      "metadata": {
        "id": "-hRsrbqH35YA"
      },
      "source": [
        "Ahora.. como lo hacemos con numpy? Es mucho más simple!"
      ]
    },
    {
      "cell_type": "code",
      "execution_count": null,
      "metadata": {
        "id": "f3CuIMeM2ij1"
      },
      "outputs": [],
      "source": [
        "np.mean(np_array)"
      ]
    },
    {
      "cell_type": "markdown",
      "metadata": {
        "id": "RaZKSpM62pEz"
      },
      "source": [
        "## La mediana\n",
        "\n",
        "Vimos que la mediana es un valor tal que bajo ella se encuentran el 50% de las observaciones.\n",
        "\n",
        "Numpy también nos provee una función para calcular la mediana en una sola línea de código:\n"
      ]
    },
    {
      "cell_type": "code",
      "execution_count": null,
      "metadata": {
        "id": "2dAbcWP12kNU"
      },
      "outputs": [],
      "source": [
        "np.median(np_array)"
      ]
    },
    {
      "cell_type": "markdown",
      "metadata": {
        "id": "3pXHJMBa6zbn"
      },
      "source": [
        "## Desviación estandar"
      ]
    },
    {
      "cell_type": "code",
      "execution_count": null,
      "metadata": {
        "id": "9aZ6rxnl4jFd"
      },
      "outputs": [],
      "source": [
        "np.std(np_array)"
      ]
    },
    {
      "cell_type": "markdown",
      "metadata": {
        "id": "IxBiLuY17fNy"
      },
      "source": [
        "## Varianza"
      ]
    },
    {
      "cell_type": "code",
      "execution_count": null,
      "metadata": {
        "id": "u9gEYrZD7eFy"
      },
      "outputs": [],
      "source": [
        "np.var(np_array)"
      ]
    },
    {
      "cell_type": "markdown",
      "metadata": {
        "id": "e1n9R1E28Xhg"
      },
      "source": [
        "## Percentiles"
      ]
    },
    {
      "cell_type": "code",
      "execution_count": null,
      "metadata": {
        "id": "QqmgjXtz7vGs"
      },
      "outputs": [],
      "source": [
        "np.quantile(np_array, 0.5) # Es igual a la mediana"
      ]
    },
    {
      "cell_type": "code",
      "execution_count": null,
      "metadata": {
        "id": "ycCatqAp8bj2"
      },
      "outputs": [],
      "source": [
        "np.quantile(np_array, 0.25)"
      ]
    },
    {
      "cell_type": "markdown",
      "metadata": {
        "id": "BjCLmyCS98Kv"
      },
      "source": [
        "# Pandas\n",
        "\n",
        "Ahora si, arranquemos con Pandas.\n",
        "\n",
        "Pandas es otra librería muy utilizada por data scientists. El principal concepto detrás de Pandas es el DataFrame.\n",
        "\n",
        "Un DataFrame es una estructura de datos con dos dimensiones en la cual se puede guardar datos de distintos tipos (como caractéres, enteros, valores de punto flotante, factores y más) en columnas. En un DataFrame se van a almacenar los datos con los que querramos trabajar.\n",
        "\n",
        "Pandas nos provee muchas funciones para manipular datos en un DataFrame.\n",
        "\n",
        "Pandas corre sobre Numpy, de manera que hay muchas cosas en comun.\n",
        "\n",
        "Primero que nada, importemos pandas"
      ]
    },
    {
      "cell_type": "code",
      "execution_count": null,
      "metadata": {
        "id": "ApffDKCN-HkI"
      },
      "outputs": [],
      "source": [
        "import pandas as pd"
      ]
    },
    {
      "cell_type": "markdown",
      "metadata": {
        "id": "pAkYpweiEoRT"
      },
      "source": [
        "Un DataFrame se puede crear por ejemplo, a partir de un archivo csv (caso más común).\n",
        "\n",
        "Para eso, pandas nos provee la función read_csv.\n",
        "\n",
        "Antes que nada, si estamos trabajando en google colab, debemos montar drive en nuestro notebook.\n",
        "\n",
        "Una vez montado drive, debemos reemplazar el path al archivo:"
      ]
    },
    {
      "cell_type": "code",
      "execution_count": null,
      "metadata": {
        "collapsed": true,
        "id": "FcQaBKuj-UhS",
        "outputId": "2eb0c2e8-aedc-4953-8a23-3eb24e08fa73"
      },
      "outputs": [
        {
          "ename": "ModuleNotFoundError",
          "evalue": "No module named 'termios'",
          "output_type": "error",
          "traceback": [
            "\u001b[1;31m---------------------------------------------------------------------------\u001b[0m",
            "\u001b[1;31mModuleNotFoundError\u001b[0m                       Traceback (most recent call last)",
            "\u001b[1;32m<ipython-input-5-09596dc3b273>\u001b[0m in \u001b[0;36m<module>\u001b[1;34m\u001b[0m\n\u001b[1;32m----> 1\u001b[1;33m \u001b[1;32mfrom\u001b[0m \u001b[0mgoogle\u001b[0m\u001b[1;33m.\u001b[0m\u001b[0mcolab\u001b[0m \u001b[1;32mimport\u001b[0m \u001b[0mdrive\u001b[0m \u001b[1;31m# La usamos para montar nuestra unidad de Google Drive\u001b[0m\u001b[1;33m\u001b[0m\u001b[1;33m\u001b[0m\u001b[0m\n\u001b[0m\u001b[0;32m      2\u001b[0m \u001b[0mdrive\u001b[0m\u001b[1;33m.\u001b[0m\u001b[0mmount\u001b[0m\u001b[1;33m(\u001b[0m\u001b[1;34m'/content/drive'\u001b[0m\u001b[1;33m)\u001b[0m \u001b[1;31m# Montamos nuestra unidad de Google Drive\u001b[0m\u001b[1;33m\u001b[0m\u001b[1;33m\u001b[0m\u001b[0m\n",
            "\u001b[1;32mc:\\Users\\apacek\\Anaconda3\\lib\\site-packages\\google\\colab\\__init__.py\u001b[0m in \u001b[0;36m<module>\u001b[1;34m\u001b[0m\n\u001b[0;32m     21\u001b[0m \u001b[1;32mfrom\u001b[0m \u001b[0mgoogle\u001b[0m\u001b[1;33m.\u001b[0m\u001b[0mcolab\u001b[0m \u001b[1;32mimport\u001b[0m \u001b[0m_installation_commands\u001b[0m\u001b[1;33m\u001b[0m\u001b[1;33m\u001b[0m\u001b[0m\n\u001b[0;32m     22\u001b[0m \u001b[1;32mfrom\u001b[0m \u001b[0mgoogle\u001b[0m\u001b[1;33m.\u001b[0m\u001b[0mcolab\u001b[0m \u001b[1;32mimport\u001b[0m \u001b[0m_shell_customizations\u001b[0m\u001b[1;33m\u001b[0m\u001b[1;33m\u001b[0m\u001b[0m\n\u001b[1;32m---> 23\u001b[1;33m \u001b[1;32mfrom\u001b[0m \u001b[0mgoogle\u001b[0m\u001b[1;33m.\u001b[0m\u001b[0mcolab\u001b[0m \u001b[1;32mimport\u001b[0m \u001b[0m_system_commands\u001b[0m\u001b[1;33m\u001b[0m\u001b[1;33m\u001b[0m\u001b[0m\n\u001b[0m\u001b[0;32m     24\u001b[0m \u001b[1;32mfrom\u001b[0m \u001b[0mgoogle\u001b[0m\u001b[1;33m.\u001b[0m\u001b[0mcolab\u001b[0m \u001b[1;32mimport\u001b[0m \u001b[0m_tensorflow_magics\u001b[0m\u001b[1;33m\u001b[0m\u001b[1;33m\u001b[0m\u001b[0m\n\u001b[0;32m     25\u001b[0m \u001b[1;32mfrom\u001b[0m \u001b[0mgoogle\u001b[0m\u001b[1;33m.\u001b[0m\u001b[0mcolab\u001b[0m \u001b[1;32mimport\u001b[0m \u001b[0mauth\u001b[0m\u001b[1;33m\u001b[0m\u001b[1;33m\u001b[0m\u001b[0m\n",
            "\u001b[1;32mc:\\Users\\apacek\\Anaconda3\\lib\\site-packages\\google\\colab\\_system_commands.py\u001b[0m in \u001b[0;36m<module>\u001b[1;34m\u001b[0m\n\u001b[0;32m     22\u001b[0m \u001b[1;32mimport\u001b[0m \u001b[0mlocale\u001b[0m\u001b[1;33m\u001b[0m\u001b[1;33m\u001b[0m\u001b[0m\n\u001b[0;32m     23\u001b[0m \u001b[1;32mimport\u001b[0m \u001b[0mos\u001b[0m\u001b[1;33m\u001b[0m\u001b[1;33m\u001b[0m\u001b[0m\n\u001b[1;32m---> 24\u001b[1;33m \u001b[1;32mimport\u001b[0m \u001b[0mpty\u001b[0m\u001b[1;33m\u001b[0m\u001b[1;33m\u001b[0m\u001b[0m\n\u001b[0m\u001b[0;32m     25\u001b[0m \u001b[1;32mimport\u001b[0m \u001b[0mselect\u001b[0m\u001b[1;33m\u001b[0m\u001b[1;33m\u001b[0m\u001b[0m\n\u001b[0;32m     26\u001b[0m \u001b[1;32mimport\u001b[0m \u001b[0msignal\u001b[0m\u001b[1;33m\u001b[0m\u001b[1;33m\u001b[0m\u001b[0m\n",
            "\u001b[1;32mc:\\Users\\apacek\\Anaconda3\\lib\\pty.py\u001b[0m in \u001b[0;36m<module>\u001b[1;34m\u001b[0m\n\u001b[0;32m     10\u001b[0m \u001b[1;32mimport\u001b[0m \u001b[0mos\u001b[0m\u001b[1;33m\u001b[0m\u001b[1;33m\u001b[0m\u001b[0m\n\u001b[0;32m     11\u001b[0m \u001b[1;32mimport\u001b[0m \u001b[0msys\u001b[0m\u001b[1;33m\u001b[0m\u001b[1;33m\u001b[0m\u001b[0m\n\u001b[1;32m---> 12\u001b[1;33m \u001b[1;32mimport\u001b[0m \u001b[0mtty\u001b[0m\u001b[1;33m\u001b[0m\u001b[1;33m\u001b[0m\u001b[0m\n\u001b[0m\u001b[0;32m     13\u001b[0m \u001b[1;33m\u001b[0m\u001b[0m\n\u001b[0;32m     14\u001b[0m \u001b[0m__all__\u001b[0m \u001b[1;33m=\u001b[0m \u001b[1;33m[\u001b[0m\u001b[1;34m\"openpty\"\u001b[0m\u001b[1;33m,\u001b[0m\u001b[1;34m\"fork\"\u001b[0m\u001b[1;33m,\u001b[0m\u001b[1;34m\"spawn\"\u001b[0m\u001b[1;33m]\u001b[0m\u001b[1;33m\u001b[0m\u001b[1;33m\u001b[0m\u001b[0m\n",
            "\u001b[1;32mc:\\Users\\apacek\\Anaconda3\\lib\\tty.py\u001b[0m in \u001b[0;36m<module>\u001b[1;34m\u001b[0m\n\u001b[0;32m      3\u001b[0m \u001b[1;31m# Author: Steen Lumholt.\u001b[0m\u001b[1;33m\u001b[0m\u001b[1;33m\u001b[0m\u001b[1;33m\u001b[0m\u001b[0m\n\u001b[0;32m      4\u001b[0m \u001b[1;33m\u001b[0m\u001b[0m\n\u001b[1;32m----> 5\u001b[1;33m \u001b[1;32mfrom\u001b[0m \u001b[0mtermios\u001b[0m \u001b[1;32mimport\u001b[0m \u001b[1;33m*\u001b[0m\u001b[1;33m\u001b[0m\u001b[1;33m\u001b[0m\u001b[0m\n\u001b[0m\u001b[0;32m      6\u001b[0m \u001b[1;33m\u001b[0m\u001b[0m\n\u001b[0;32m      7\u001b[0m \u001b[0m__all__\u001b[0m \u001b[1;33m=\u001b[0m \u001b[1;33m[\u001b[0m\u001b[1;34m\"setraw\"\u001b[0m\u001b[1;33m,\u001b[0m \u001b[1;34m\"setcbreak\"\u001b[0m\u001b[1;33m]\u001b[0m\u001b[1;33m\u001b[0m\u001b[1;33m\u001b[0m\u001b[0m\n",
            "\u001b[1;31mModuleNotFoundError\u001b[0m: No module named 'termios'"
          ]
        }
      ],
      "source": [
        "#from google.colab import drive # La usamos para montar nuestra unidad de Google Drive\n",
        "#drive.mount('/content/drive') # Montamos nuestra unidad de Google Drive\n",
        "#iris_dataset = pd.read_csv('drive/MyDrive/ICARO/Curso DS/Clases/Clase 4/iris_dataset.csv') \"Ruta del drive donde esta guardado el dataset + iris_dataset.csv\""
      ]
    },
    {
      "cell_type": "code",
      "execution_count": null,
      "metadata": {
        "id": "iQfc9AfPEndn"
      },
      "outputs": [],
      "source": [
        "iris_dataset = pd.read_csv('iris_dataset.csv')"
      ]
    },
    {
      "cell_type": "code",
      "execution_count": null,
      "metadata": {
        "id": "znQpjuFXGIyW"
      },
      "outputs": [],
      "source": [
        "iris_dataset"
      ]
    },
    {
      "cell_type": "markdown",
      "metadata": {
        "id": "l2p5q4g3GZ4P"
      },
      "source": [
        "Lo que hicimos fue leer un archivo csv y meterlo dentro de un DataFrame de pandas. Este DataFrame tiene filas y columnas.\n",
        "\n",
        "Cad columna tiene un tipo de dato. Esto podemos verlo con la función info()"
      ]
    },
    {
      "cell_type": "code",
      "execution_count": null,
      "metadata": {
        "id": "jHmyCGNfGvoj"
      },
      "outputs": [],
      "source": [
        "iris_dataset.info()"
      ]
    },
    {
      "cell_type": "markdown",
      "metadata": {
        "id": "4CYrbZvZGykz"
      },
      "source": [
        "Nos dice que todas las columnas son del tipo float, a excepción de \"species\" que es del tipo \"object\".\n",
        "\n",
        "Es importante tener en cuenta el tipo de datos de las columnas ya que de esto depende las operaciones que podemos hacer sobre las mismas.\n",
        "\n",
        "El dataset que estamos usando (iris_dataset) es muy conocido, pueden googlear para saber más del mismo.\n",
        "\n",
        "\n",
        "Otra función muy útil de los DataFrames es describe()\n"
      ]
    },
    {
      "cell_type": "code",
      "execution_count": null,
      "metadata": {
        "id": "G_Tj47H8GxMx"
      },
      "outputs": [],
      "source": [
        "iris_dataset.describe()"
      ]
    },
    {
      "cell_type": "markdown",
      "metadata": {
        "id": "WwoyrgzTHOKp"
      },
      "source": [
        "Describe, nos da datos estadísticos de nuesto DataFrame.\n",
        "\n",
        "Un DataFrame, puede tener valores faltantes. Estos valores faltantes en pandas se representan como NaN.\n",
        "\n",
        "Cuántos datos faltantes hay en este DataFrame?"
      ]
    },
    {
      "cell_type": "code",
      "execution_count": null,
      "metadata": {
        "id": "DKkQ8auQHMrX"
      },
      "outputs": [],
      "source": [
        "iris_dataset.isna().sum()"
      ]
    },
    {
      "cell_type": "markdown",
      "metadata": {
        "id": "KPUPxomxHhcf"
      },
      "source": [
        "Ninguno! Este dataset no tiene datos faltantes (rara vez nos vamos a encontrar con datasets de este tipo)\n",
        "\n",
        "También podemos aplicar funciones sobre una columna.\n",
        "\n",
        "Para seleccionar una columna, utilizamos []."
      ]
    },
    {
      "cell_type": "code",
      "execution_count": null,
      "metadata": {
        "id": "YD0wzTIOHgmX"
      },
      "outputs": [],
      "source": [
        "iris_dataset['sepal_length']"
      ]
    },
    {
      "cell_type": "markdown",
      "metadata": {
        "id": "RudjX-MzIG5T"
      },
      "source": [
        "Que tipo de dato nos retorna esto?"
      ]
    },
    {
      "cell_type": "code",
      "execution_count": null,
      "metadata": {
        "id": "mWwAPzUvH-BO"
      },
      "outputs": [],
      "source": [
        "type(iris_dataset['sepal_length'])"
      ]
    },
    {
      "cell_type": "markdown",
      "metadata": {
        "id": "YhiP2hFjIKUA"
      },
      "source": [
        "Una \"Series\". Una series es el objeto que compone a los dataframes de pandas.\n",
        "\n",
        "Este objeto es muy similar a los que es un array de Numpy (de hecho esta construido sobre el). La diferencia es que el objeto Series tiene etiquetas (labels), eso quiere decir que puede ser indexado por la etiqueta, y no solo por la posicion.\n",
        "\n",
        "Si en lugar de obtener una Series, quiero un DataFrame, puedo hacerlo utilizando corchetes dobles:"
      ]
    },
    {
      "cell_type": "code",
      "execution_count": null,
      "metadata": {
        "id": "9F4WwMQmIJfd"
      },
      "outputs": [],
      "source": [
        "iris_dataset[['sepal_length']]"
      ]
    },
    {
      "cell_type": "markdown",
      "metadata": {
        "id": "ZNDN9xqRJK9I"
      },
      "source": [
        "En este caso, puedo seleccionar todas las columnas que quiera"
      ]
    },
    {
      "cell_type": "code",
      "execution_count": null,
      "metadata": {
        "id": "HV6T3X7HJKBR"
      },
      "outputs": [],
      "source": [
        "iris_dataset[['sepal_length', 'sepal_width', 'species']]"
      ]
    },
    {
      "cell_type": "markdown",
      "metadata": {
        "id": "NbdCTcmQJjQB"
      },
      "source": [
        "Los DataFrames también tienen un atributo \"columns\":"
      ]
    },
    {
      "cell_type": "code",
      "execution_count": null,
      "metadata": {
        "id": "I2xcImTDJQHT"
      },
      "outputs": [],
      "source": [
        "iris_dataset.columns"
      ]
    },
    {
      "cell_type": "markdown",
      "metadata": {
        "id": "dKCpqW9VJsMg"
      },
      "source": [
        "Y otro atributo index:"
      ]
    },
    {
      "cell_type": "code",
      "execution_count": null,
      "metadata": {
        "id": "dRd08pqXJrUn"
      },
      "outputs": [],
      "source": [
        "iris_dataset.index"
      ]
    },
    {
      "cell_type": "markdown",
      "metadata": {
        "id": "gLg3Di2UJwTM"
      },
      "source": [
        "Podemos elegir cualquier columna como index:"
      ]
    },
    {
      "cell_type": "code",
      "execution_count": null,
      "metadata": {
        "id": "na1fyzyEJvDU"
      },
      "outputs": [],
      "source": [
        "iris_dataset = iris_dataset.set_index('sepal_length')"
      ]
    },
    {
      "cell_type": "markdown",
      "metadata": {
        "id": "fTughQqPKLum"
      },
      "source": [
        "Si nos arrepentimos, podemos resetear el index para que vuelva a ser numérico"
      ]
    },
    {
      "cell_type": "code",
      "execution_count": null,
      "metadata": {
        "id": "K-udXmjKKVJ5"
      },
      "outputs": [],
      "source": [
        "iris_dataset = iris_dataset.reset_index()"
      ]
    },
    {
      "cell_type": "code",
      "execution_count": null,
      "metadata": {
        "id": "5z8DVuVNKPX4"
      },
      "outputs": [],
      "source": [
        "iris_dataset"
      ]
    },
    {
      "cell_type": "markdown",
      "metadata": {
        "id": "ki28ccJoLBby"
      },
      "source": [
        "### Head, Tail y Sample\n",
        "\n",
        "A veces tenemos DataFrames con muchisimos datos y no queremos imprimir todo en un notebook, simplemente algunas filas como ejemplo.\n",
        "\n",
        "Para esto existen las funciones head(), tail() y sample()"
      ]
    },
    {
      "cell_type": "code",
      "execution_count": null,
      "metadata": {
        "id": "Q_mMRwDHLMV5"
      },
      "outputs": [],
      "source": [
        "iris_dataset.head()"
      ]
    },
    {
      "cell_type": "code",
      "execution_count": null,
      "metadata": {
        "id": "z2UhPxnPLMYX"
      },
      "outputs": [],
      "source": [
        "iris_dataset.tail()"
      ]
    },
    {
      "cell_type": "code",
      "execution_count": null,
      "metadata": {
        "id": "tfp_djLpLMdN",
        "scrolled": true
      },
      "outputs": [],
      "source": [
        "iris_dataset.sample(5, random_state=42)"
      ]
    },
    {
      "cell_type": "markdown",
      "metadata": {
        "id": "bK6lSU8eLRfI"
      },
      "source": [
        "Cuál es la diferencia entre las 3?"
      ]
    },
    {
      "cell_type": "markdown",
      "metadata": {
        "id": "KuIePhmgJ_Xq"
      },
      "source": [
        "#### loc e iloc\n",
        "\n",
        "Pandas nos probee las funciones loc e iloc para acceder a sus datos.\n",
        "\n",
        "Para que sirven?\n",
        "\n",
        "Investigar"
      ]
    },
    {
      "cell_type": "code",
      "execution_count": null,
      "metadata": {
        "id": "eSeugucxJ2a8"
      },
      "outputs": [],
      "source": [
        "iris_dataset.loc[1,['sepal_length']]"
      ]
    },
    {
      "cell_type": "code",
      "execution_count": null,
      "metadata": {
        "id": "pmOGc9A1K4az"
      },
      "outputs": [],
      "source": [
        "iris_dataset.iloc[1,0]"
      ]
    }
  ],
  "metadata": {
    "colab": {
      "provenance": []
    },
    "kernelspec": {
      "display_name": "Python 3 (ipykernel)",
      "language": "python",
      "name": "python3"
    },
    "language_info": {
      "codemirror_mode": {
        "name": "ipython",
        "version": 3
      },
      "file_extension": ".py",
      "mimetype": "text/x-python",
      "name": "python",
      "nbconvert_exporter": "python",
      "pygments_lexer": "ipython3",
      "version": "3.8.13"
    },
    "vscode": {
      "interpreter": {
        "hash": "892d461b55a6ce994a56bafd67ae2f3489d9f23234c096cfb51dfe498c166e4b"
      }
    }
  },
  "nbformat": 4,
  "nbformat_minor": 0
}