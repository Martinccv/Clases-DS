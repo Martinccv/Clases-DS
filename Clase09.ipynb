{
  "cells": [
    {
      "cell_type": "markdown",
      "metadata": {
        "id": "l2Zlbagc3e6C"
      },
      "source": [
        "# Análisis exploratorio de datos\n",
        "\n",
        "Ahora vamos a explorar un dataset para obtener información y crear un mejor sentido de comprensión sobre el mismo.\n",
        "\n",
        "En internet, podemos encontrar muchos datasets gratuitos para descargar en formato csv. Por ejemplo:\n",
        "\n",
        "- Datos abiertos de Argentina: https://datos.gob.ar/\n",
        "- Google: https://datasetsearch.research.google.com/\n",
        "\n",
        "En este caso, vamos a explorar un dataset que contiene datos sobre precios de casas en sidney. Lo descargamos de https://www.kaggle.com/mihirhalai/sydney-house-prices\n",
        "\n",
        "**Usamos SydneyHousePrices.csv**\n",
        "\n"
      ]
    },
    {
      "cell_type": "code",
      "execution_count": null,
      "metadata": {
        "id": "9sUSCfhKpQUb"
      },
      "outputs": [],
      "source": [
        "import pandas as pd\n",
        "import numpy as np\n",
        "import matplotlib.pyplot as plt\n",
        "import seaborn as sns"
      ]
    },
    {
      "cell_type": "code",
      "execution_count": null,
      "metadata": {
        "id": "bTBa_KevpVJs"
      },
      "outputs": [],
      "source": [
        "from google.colab import drive # La usamos para montar nuestra unidad de Google Drive\n",
        "drive.mount('/content/drive') # Montamos nuestra unidad de Google Drive"
      ]
    },
    {
      "cell_type": "code",
      "execution_count": null,
      "metadata": {
        "id": "KLQcWCpPpbn5"
      },
      "outputs": [],
      "source": [
        "df = pd.read_csv('/content/drive/MyDrive/Curso DS/datasets/SydneyHousePrices.csv')"
      ]
    },
    {
      "cell_type": "markdown",
      "metadata": {
        "id": "4Nxv_dMLqSYA"
      },
      "source": [
        "Empecemos a explorar. Lo primero es saber con que datos contamos y que significan cada una de las columnas"
      ]
    },
    {
      "cell_type": "code",
      "execution_count": null,
      "metadata": {
        "id": "AnnLa9DGp2cl"
      },
      "outputs": [],
      "source": [
        "df.head()"
      ]
    },
    {
      "cell_type": "markdown",
      "metadata": {
        "id": "zUHm58wOvVBK"
      },
      "source": [
        "Las columnas que tenemos son:\n",
        "\n",
        "- Id: es simplemente un valor numérico que identifica a la propiedad. No nos es útil para el análisis (la podemos descartar).\n",
        "- Date: Fecha de publicación\n",
        "- suburb: suburbio\n",
        "- postalCode: Código postal\n",
        "- sellPrice: Precio de la casa\n",
        "- bed: Cuantas camas tiene\n",
        "- Car: Lugar para cuantos autos tiene\n",
        "- propType: tipo de propiedad\n",
        "\n",
        "Ahora, que tipos de datos contienen las columnas?"
      ]
    },
    {
      "cell_type": "code",
      "execution_count": null,
      "metadata": {
        "id": "YR94txXtqZsP"
      },
      "outputs": [],
      "source": [
        "df.info()"
      ]
    },
    {
      "cell_type": "markdown",
      "metadata": {
        "id": "UgLTJJTJ9Ee8"
      },
      "source": [
        "¿ Cuántas filas tiene el dataset ?"
      ]
    },
    {
      "cell_type": "code",
      "execution_count": null,
      "metadata": {
        "id": "tABWaKfi9D15"
      },
      "outputs": [],
      "source": [
        "df.shape[0]"
      ]
    },
    {
      "cell_type": "markdown",
      "metadata": {
        "id": "byH1UVpu8-LW"
      },
      "source": [
        "Tenemos valores nulos?"
      ]
    },
    {
      "cell_type": "code",
      "execution_count": null,
      "metadata": {
        "id": "BAclG0Bt9ADp"
      },
      "outputs": [],
      "source": [
        "df.isna().sum()"
      ]
    },
    {
      "cell_type": "markdown",
      "metadata": {
        "id": "aRnSFRXM9JvD"
      },
      "source": [
        "¿ Qué porcentaje de nulos hay por columna ?"
      ]
    },
    {
      "cell_type": "code",
      "execution_count": null,
      "metadata": {
        "id": "A-jAyoKh9Mzs"
      },
      "outputs": [],
      "source": [
        "df.isna().sum() / df.shape[0]"
      ]
    },
    {
      "cell_type": "markdown",
      "metadata": {
        "id": "TN331y_bv2Xp"
      },
      "source": [
        "Las separemos en variables numéricas y categóricas:\n",
        "\n",
        "Numéricas (cuantitativas):\n",
        "- sellPrice\n",
        "- bed\n",
        "- bath\n",
        "- car\n",
        "\n",
        "Categóricas:\n",
        "- suburb\n",
        "- postalCode\n",
        "- propType\n",
        "\n",
        "## Análisis varibales categóricas\n",
        "\n",
        "Exploramos las variables categóricas\n",
        "\n",
        "### ¿ Cuántos valores únicos hay en cada columna de las categóricas ?"
      ]
    },
    {
      "cell_type": "code",
      "execution_count": null,
      "metadata": {
        "id": "NARSZFkuv03S"
      },
      "outputs": [],
      "source": [
        "df['suburb'].nunique()"
      ]
    },
    {
      "cell_type": "code",
      "execution_count": null,
      "metadata": {
        "id": "utt9VMiMwvOv"
      },
      "outputs": [],
      "source": [
        "df['postalCode'].nunique()"
      ]
    },
    {
      "cell_type": "code",
      "execution_count": null,
      "metadata": {
        "id": "doPEkWg2wxMH"
      },
      "outputs": [],
      "source": [
        "df['propType'].nunique()"
      ]
    },
    {
      "cell_type": "markdown",
      "metadata": {
        "id": "YTaIro1JzWJo"
      },
      "source": [
        "Podemos ver como se distribuyen estas variables categóricas:"
      ]
    },
    {
      "cell_type": "code",
      "execution_count": null,
      "metadata": {
        "id": "PsNb7NeWwzl-"
      },
      "outputs": [],
      "source": [
        "fig = plt.figure()\n",
        "ax = plt.axes()\n",
        "ax = sns.countplot(x='propType', data=df, order=df.propType.value_counts().index)\n",
        "plt.yscale(\"log\")\n",
        "plt.xticks(rotation=90)\n",
        "plt.title(\"Countplot variable propType\")\n",
        "plt.show()"
      ]
    },
    {
      "cell_type": "code",
      "execution_count": null,
      "metadata": {
        "id": "TSm4NnYT01uG"
      },
      "outputs": [],
      "source": [
        "fig = plt.figure(figsize=(20,5))\n",
        "ax = plt.axes()\n",
        "ax = sns.countplot(x='postalCode', data=df, order=df.postalCode.value_counts()[:50].index)\n",
        "plt.xticks(rotation=90)\n",
        "plt.title(\"Countplot variable postalCode\")\n",
        "plt.show()"
      ]
    },
    {
      "cell_type": "code",
      "execution_count": null,
      "metadata": {
        "id": "YF_JrgbsztDP"
      },
      "outputs": [],
      "source": [
        "fig = plt.figure(figsize=(20,5))\n",
        "ax = plt.axes()\n",
        "ax = sns.countplot(x='suburb', data=df, order=df.suburb.value_counts()[:40].index)\n",
        "plt.xticks(rotation=90)\n",
        "plt.title(\"Countplot variable suburb\")\n",
        "plt.show()"
      ]
    },
    {
      "cell_type": "markdown",
      "metadata": {
        "id": "I5Gp8DHq1hsC"
      },
      "source": [
        "## Análisis variables numéricas\n",
        "\n",
        "### ¿ Cómo se distribuyen ?"
      ]
    },
    {
      "cell_type": "markdown",
      "metadata": {
        "id": "SI_uFMFA3Hoj"
      },
      "source": [
        "#### Sell Price"
      ]
    },
    {
      "cell_type": "code",
      "execution_count": null,
      "metadata": {
        "id": "ULuth_dx3SKC"
      },
      "outputs": [],
      "source": [
        "df.sellPrice.describe()"
      ]
    },
    {
      "cell_type": "code",
      "execution_count": null,
      "metadata": {
        "id": "f5ELjckF1tpQ"
      },
      "outputs": [],
      "source": [
        "fig = plt.figure()\n",
        "ax = plt.axes()\n",
        "ax = sns.distplot(x=df.sellPrice)\n",
        "ax.set_title(\"Distribución de la variable sellPrice\")\n",
        "plt.show()"
      ]
    },
    {
      "cell_type": "markdown",
      "metadata": {
        "id": "26a1MlAY2BX6"
      },
      "source": [
        "¿ Por qué se ve tan feo este gráfico ?\n",
        "\n",
        "Tenemos valores extemos! Lo podemos ver en un boxplot"
      ]
    },
    {
      "cell_type": "code",
      "execution_count": null,
      "metadata": {
        "id": "3eHz1aO_14I6"
      },
      "outputs": [],
      "source": [
        "fig = plt.figure()\n",
        "ax = plt.axes()\n",
        "ax = sns.boxplot(x=df.sellPrice)\n",
        "ax.set_title(\"Distribución de la variable sellPrice\")\n",
        "plt.show()"
      ]
    },
    {
      "cell_type": "markdown",
      "metadata": {
        "id": "F5ZyoOgX2O5o"
      },
      "source": [
        "En este caso, vamos a descartar estos valores extremos para seguir con nuestro análisis sobre los casos más \"normales\".\n",
        "\n",
        "Para esto, vamos a utilizar el IQR.\n",
        "\n",
        "EJERCICIO: Filtrar outliers utilizando el IQR."
      ]
    },
    {
      "cell_type": "code",
      "execution_count": null,
      "metadata": {
        "id": "h_8lr2l62Kag"
      },
      "outputs": [],
      "source": [
        "#COMPLETAR"
      ]
    },
    {
      "cell_type": "code",
      "execution_count": null,
      "metadata": {
        "id": "wj6LsOmy20mF"
      },
      "outputs": [],
      "source": [
        "fig = plt.figure()\n",
        "ax = plt.axes()\n",
        "ax = sns.boxplot(x=df.sellPrice)\n",
        "ax.set_title(\"Distribución de la variable sellPrice (Sacando valores extremos)\")\n",
        "plt.show()"
      ]
    },
    {
      "cell_type": "code",
      "execution_count": null,
      "metadata": {
        "id": "MFZAvdnb3Mpq"
      },
      "outputs": [],
      "source": [
        "fig = plt.figure()\n",
        "ax = plt.axes()\n",
        "ax = sns.distplot(x=df.sellPrice)\n",
        "ax.set_title(\"Distribución de la variable sellPrice (Sacando valores extremos)\")\n",
        "plt.show()"
      ]
    },
    {
      "cell_type": "markdown",
      "metadata": {
        "id": "O6QE6-8K3KK3"
      },
      "source": [
        "#### Bed"
      ]
    },
    {
      "cell_type": "code",
      "execution_count": null,
      "metadata": {
        "id": "5trrKS2X22jZ"
      },
      "outputs": [],
      "source": [
        "df.bed.describe()"
      ]
    },
    {
      "cell_type": "code",
      "execution_count": null,
      "metadata": {
        "id": "hQEpLaL23eA3"
      },
      "outputs": [],
      "source": [
        "fig = plt.figure(figsize=(20,5))\n",
        "ax = plt.axes()\n",
        "ax = sns.countplot(x='bed', data=df, order=df.bed.value_counts().index)\n",
        "plt.xticks(rotation=90)\n",
        "plt.title(\"Countplot variable bed\")\n",
        "plt.show()"
      ]
    },
    {
      "cell_type": "code",
      "execution_count": null,
      "metadata": {
        "id": "H3FJOTPiFvmJ"
      },
      "outputs": [],
      "source": [
        "fig = plt.figure()\n",
        "ax = plt.axes()\n",
        "ax = sns.boxplot(x=df.bed)\n",
        "ax.set_title(\"Distribución de la variable bed\")\n",
        "plt.show()"
      ]
    },
    {
      "cell_type": "code",
      "source": [
        "fig = plt.figure()\n",
        "ax = plt.axes()\n",
        "ax = sns.distplot(x=df.bed)\n",
        "ax.set_title(\"Distribución de la variable bed\")\n",
        "plt.show()"
      ],
      "metadata": {
        "id": "TayDqMvTpy9l"
      },
      "execution_count": null,
      "outputs": []
    },
    {
      "cell_type": "markdown",
      "metadata": {
        "id": "ww_aVEI-Fy4H"
      },
      "source": [
        "Vemos que la variable bed también tiene muchos valores extremos. La limpiamos para poder visualizar mejor.\n",
        "\n",
        "Para limpiarla, también vamos a utilizar el IQR.\n",
        "\n",
        "EJERCICIO: Para no repetir código, hacer una función que reciba un df y el nombre de la columna a limpiar. Esta función debe retornar el df sin outliers en la columna especificada."
      ]
    },
    {
      "cell_type": "code",
      "execution_count": null,
      "metadata": {
        "id": "mKkz_uRHF4bW"
      },
      "outputs": [],
      "source": [
        "#COMPLETAR"
      ]
    },
    {
      "cell_type": "code",
      "execution_count": null,
      "metadata": {
        "id": "A8jwgKXEF7P9"
      },
      "outputs": [],
      "source": [
        "fig = plt.figure()\n",
        "ax = plt.axes()\n",
        "ax = sns.boxplot(x=df.bed)\n",
        "ax.set_title(\"Distribución de la variable bed (sin valores extremos)\")\n",
        "plt.show()"
      ]
    },
    {
      "cell_type": "code",
      "source": [
        "fig = plt.figure()\n",
        "ax = plt.axes()\n",
        "ax = sns.distplot(x=df.bed)\n",
        "ax.set_title(\"Distribución de la variable bed (sin valores extremos)\")\n",
        "plt.show()"
      ],
      "metadata": {
        "id": "2AxqYwCbp7YS"
      },
      "execution_count": null,
      "outputs": []
    },
    {
      "cell_type": "markdown",
      "metadata": {
        "id": "7iQdZkz73spg"
      },
      "source": [
        "#### Bath"
      ]
    },
    {
      "cell_type": "code",
      "execution_count": null,
      "metadata": {
        "id": "DMeT6ulA3oL3"
      },
      "outputs": [],
      "source": [
        "df.bath.describe()"
      ]
    },
    {
      "cell_type": "code",
      "execution_count": null,
      "metadata": {
        "id": "RrqWjnyR3u9H"
      },
      "outputs": [],
      "source": [
        "fig = plt.figure(figsize=(20,5))\n",
        "ax = plt.axes()\n",
        "ax = sns.countplot(x='bath', data=df, order=df.bath.value_counts().index)\n",
        "plt.xticks(rotation=90)\n",
        "plt.title(\"Countplot variable bath\")\n",
        "plt.show()"
      ]
    },
    {
      "cell_type": "code",
      "execution_count": null,
      "metadata": {
        "id": "fwMFOa-mGEVw"
      },
      "outputs": [],
      "source": [
        "fig = plt.figure()\n",
        "ax = plt.axes()\n",
        "ax = sns.boxplot(x=df.bath)\n",
        "ax.set_title(\"Distribución de la variable bath\")\n",
        "plt.show()"
      ]
    },
    {
      "cell_type": "markdown",
      "metadata": {
        "id": "TV56RgocGG3X"
      },
      "source": [
        "Vemos en el gráfico que a partir de 4 los valores son considerados extremos. Tomemos solo las casas que tienen hasta 4 baños:"
      ]
    },
    {
      "cell_type": "code",
      "execution_count": null,
      "metadata": {
        "id": "wW3wRvAgGMAA"
      },
      "outputs": [],
      "source": [
        "df = df[df.bath <=4]"
      ]
    },
    {
      "cell_type": "code",
      "execution_count": null,
      "metadata": {
        "id": "8031DADmGQI9"
      },
      "outputs": [],
      "source": [
        "fig = plt.figure()\n",
        "ax = plt.axes()\n",
        "ax = sns.boxplot(x=df.bath)\n",
        "ax.set_title(\"Distribución de la variable bath (hasta 3 baños)\")\n",
        "plt.show()"
      ]
    },
    {
      "cell_type": "markdown",
      "metadata": {
        "id": "TB2N0EMq38jv"
      },
      "source": [
        "#### Car"
      ]
    },
    {
      "cell_type": "code",
      "execution_count": null,
      "metadata": {
        "id": "70kJ4rgw34Pe"
      },
      "outputs": [],
      "source": [
        "df.car.describe()"
      ]
    },
    {
      "cell_type": "code",
      "execution_count": null,
      "metadata": {
        "id": "MIdcwxdk3-rR"
      },
      "outputs": [],
      "source": [
        "fig = plt.figure(figsize=(20,5))\n",
        "ax = plt.axes()\n",
        "ax = sns.countplot(x='car', data=df, order=df.car.value_counts().index)\n",
        "plt.xticks(rotation=90)\n",
        "plt.title(\"Countplot variable car\")\n",
        "plt.show()"
      ]
    },
    {
      "cell_type": "code",
      "execution_count": null,
      "metadata": {
        "id": "Qo-QylptG15b"
      },
      "outputs": [],
      "source": [
        "fig = plt.figure()\n",
        "ax = plt.axes()\n",
        "ax = sns.boxplot(x=df.car)\n",
        "ax.set_title(\"Distribución de la variable car\")\n",
        "plt.show()"
      ]
    },
    {
      "cell_type": "markdown",
      "metadata": {
        "id": "Ikp36epkG_ID"
      },
      "source": [
        "Lo mismo con autos, vemos que a partir de 4 hay muy pocos casos. Vamos a tomar solo hasta 4 autos"
      ]
    },
    {
      "cell_type": "code",
      "execution_count": null,
      "metadata": {
        "id": "TeBFZkCSHD1e"
      },
      "outputs": [],
      "source": [
        "df = df[df.car <=4]"
      ]
    },
    {
      "cell_type": "code",
      "execution_count": null,
      "metadata": {
        "id": "PS6p7V0LHHjT"
      },
      "outputs": [],
      "source": [
        "fig = plt.figure()\n",
        "ax = plt.axes()\n",
        "ax = sns.boxplot(x=df.car)\n",
        "ax.set_title(\"Distribución de la variable car (hasta 4 autos)\")\n",
        "plt.show()"
      ]
    },
    {
      "cell_type": "markdown",
      "metadata": {
        "id": "rbrV5mcU4JpI"
      },
      "source": [
        "## Relación entre variables\n",
        "\n",
        "Ahora queremos ver, como estas distintas variables afectan el precio de las casas.\n",
        "\n",
        "Para arrancar, podemos graficar un heatmap con correlaciones:"
      ]
    },
    {
      "cell_type": "code",
      "execution_count": null,
      "metadata": {
        "id": "ehtO6rHu4Bnq"
      },
      "outputs": [],
      "source": [
        "sns.heatmap(df.corr(method='kendall'))\n",
        "plt.show()"
      ]
    },
    {
      "cell_type": "markdown",
      "metadata": {
        "id": "j2r5gA976Iog"
      },
      "source": [
        "No está muy claro, no?\n",
        "\n",
        "Hagamos algunos retoques.\n",
        "\n",
        "Primero, sacamos la variabli Id que no vamos a utilizar:"
      ]
    },
    {
      "cell_type": "markdown",
      "metadata": {
        "id": "56ycrNIO6WW7"
      },
      "source": [
        "Además, vemos que en el heatmap aparece la variable postalCode. Esto no tiene sentido, ya que la variable postalCode es categórica.\n",
        "\n"
      ]
    },
    {
      "cell_type": "code",
      "execution_count": null,
      "metadata": {
        "id": "ELMOOJ0M6T_X"
      },
      "outputs": [],
      "source": [
        "df_corr = df[['sellPrice', 'bed', 'bath', 'car']].copy()\n",
        "\n",
        "sns.heatmap(df_corr.corr(method='kendall'))\n",
        "plt.show()"
      ]
    },
    {
      "cell_type": "markdown",
      "metadata": {
        "id": "gDO9-Em66lbU"
      },
      "source": [
        "¿ Mejor ?\n",
        "\n",
        "Igual, vemos que de la diagonal para arriba, el grafico se duplica. Eliminemos la mitad superior y utilicemos una paleta de colores que sea más simple de visualizar.\n",
        "\n",
        "https://seaborn.pydata.org/examples/many_pairwise_correlations.html"
      ]
    },
    {
      "cell_type": "code",
      "execution_count": null,
      "metadata": {
        "id": "Gc2hREd_6k8T"
      },
      "outputs": [],
      "source": [
        "# Generate a mask for the upper triangle\n",
        "mask = np.triu(np.ones_like(df_corr.corr(), dtype=bool))\n",
        "\n",
        "# Set up the matplotlib figure\n",
        "f, ax = plt.subplots(figsize=(11, 9))\n",
        "\n",
        "# Generate a custom diverging colormap\n",
        "cmap = sns.diverging_palette(230, 20, as_cmap=True)\n",
        "\n",
        "# Draw the heatmap with the mask and correct aspect ratio\n",
        "sns.heatmap(df_corr.corr(), mask=mask, cmap=cmap, center=0,\n",
        "            square=True, linewidths=.5)"
      ]
    },
    {
      "cell_type": "code",
      "execution_count": null,
      "metadata": {
        "id": "L987lsHw7oGy"
      },
      "outputs": [],
      "source": [
        "df_corr.corr()"
      ]
    },
    {
      "cell_type": "markdown",
      "metadata": {
        "id": "5G3zlTRX7HYU"
      },
      "source": [
        "Vemos que el par de variables con correlación más alta es: bath - bed.\n",
        "\n",
        "Ahora, veamos como sube o baja el precio en relación a la cantidad de autos, camas y baños:"
      ]
    },
    {
      "cell_type": "code",
      "execution_count": null,
      "metadata": {
        "id": "uxlvaj6i6-6L"
      },
      "outputs": [],
      "source": [
        "fig = plt.figure(figsize=(20,5))\n",
        "ax = plt.axes()\n",
        "ax = sns.lineplot(x='car', y='sellPrice', data=df)\n",
        "plt.xticks(rotation=90)\n",
        "plt.title(\"Relación precio / car\")\n",
        "plt.show()"
      ]
    },
    {
      "cell_type": "code",
      "execution_count": null,
      "metadata": {
        "id": "jHhZvyl48iqQ"
      },
      "outputs": [],
      "source": [
        "fig = plt.figure(figsize=(20,5))\n",
        "ax = plt.axes()\n",
        "ax = sns.lineplot(x='bath', y='sellPrice', data=df)\n",
        "plt.xticks(rotation=90)\n",
        "plt.title(\"Relación precio / bath\")\n",
        "plt.show()"
      ]
    },
    {
      "cell_type": "code",
      "execution_count": null,
      "metadata": {
        "id": "KJB2cH3T7g3O"
      },
      "outputs": [],
      "source": [
        "fig = plt.figure(figsize=(20,5))\n",
        "ax = plt.axes()\n",
        "ax = sns.lineplot(x='bed', y='sellPrice', data=df)\n",
        "plt.xticks(rotation=90)\n",
        "plt.title(\"Relación precio / bed\")\n",
        "plt.show()"
      ]
    },
    {
      "cell_type": "code",
      "execution_count": null,
      "metadata": {
        "id": "K6WBRClZHoA8"
      },
      "outputs": [],
      "source": [
        "df.head()"
      ]
    },
    {
      "cell_type": "markdown",
      "metadata": {
        "id": "Nf54F9a88u5_"
      },
      "source": [
        "# Ejercicio\n",
        "\n",
        "Responder las siguientes preguntas (utilizando df como quedó, sin los valores extremos) y graficar cuando corresponda:\n",
        "\n",
        "1- ¿ En qué suburb se encuentra la casa (house) más cara ?\n",
        "\n",
        "2- ¿ Cuántos baños tiene la casa (house) más barata ?\n",
        "\n",
        "3- Calcular el sellPrice medio para cada propType\n",
        "\n",
        "4- ¿ Cuántas \"townhouse\" hay en el postalCode 2107 ?\n",
        "\n",
        "5 - ¿ Cuál es el suburb con el sellPrice medio más alto ?\n",
        "\n",
        "6 - Escribir una función que reciba una lista de propType y:\n",
        "  - Primero valide que el propType sea válido (exista en el dataset, sea tipo sting y lo que consideren relevante validar), si no es válido, imprimir un error explicativo (pueden investigar \"Raise exception\" en python) y finalizar.\n",
        "  - Por cada elemento válido de la lista, hacer un plot de la distribución de el sellPrice de ese tipo de propiedad."
      ]
    }
  ],
  "metadata": {
    "colab": {
      "provenance": []
    },
    "kernelspec": {
      "display_name": "Python 3",
      "name": "python3"
    },
    "language_info": {
      "name": "python"
    }
  },
  "nbformat": 4,
  "nbformat_minor": 0
}