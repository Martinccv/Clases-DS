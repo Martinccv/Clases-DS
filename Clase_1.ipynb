{
 "cells": [
  {
   "cell_type": "markdown",
   "metadata": {
    "id": "1H2DGp0UxnmY"
   },
   "source": [
    "# Jupyter notebooks\n",
    "\n",
    "Jupyter notebooks nos permiten escribir código python, visualizar resultados y combinar todo esto con celdas de texto como esta!\n",
    "\n",
    "En las celdas de texto, podemos usar markdown para formatear las celdas. Veamos algunos de los tags más comunes\n",
    "\n",
    "# Headings\n",
    "\n",
    "Para los headings (títulos) se usa el simbolo \"#\" seguido de un espacio.\n",
    "Mientras más \"#\" agreguemos, más pequeño será el heading. Veamos ejemplos:\n",
    "\n",
    "# título 1\n",
    "## título 2\n",
    "### título 3\n",
    "#### título 4\n",
    "\n",
    "# Colores\n",
    "\n",
    "Se puede asignar color a los textos de la siguiente forma:\n",
    "\n",
    "<font color=blue>Texto azul</font>   #formato html\n",
    "\n",
    "<font color=red>Texto rojo</font>\n",
    "\n",
    "# Listas\n",
    "\n",
    "Usando \"-\" y un espacio antes del texto, podemos armar bullet lists:\n",
    "- item 1\n",
    "- item 2\n",
    "- item 3\n",
    "\n",
    "# Negrita\n",
    "Para usar negrita, debemos poner nuestro texto entre asteriscos dobles:\n",
    "**Texto en negrita**\n",
    "\n",
    "# Italica\n",
    "Para italica, en lugar de usar asteriscos dobles, usamos simples:\n",
    "*Texto en itálica*\n",
    "\n",
    "# Hipervínculos\n",
    "Para escribir texto con hipervínculos, debemos escribir el texto a mostrar entre [] seguido de la url entre (). Por ejemplo:\n",
    "[link a google](https://www.google.com)\n",
    "\n",
    "\n",
    "Estos son los tags más comúnes que vamos a utilizar, de todas formas, hay muchos más y **TODO ESTA EN GOOGLE**\n",
    "\n",
    "\n",
    "# Celdas de código\n",
    "\n",
    "En el curso vamos a utilizar **python** como lenguaje de programación. Las celdas de código de jupyter nos permiten escribir código python que vamos a aprender en las próximas clases.\n",
    "\n",
    "Veamos un ejemplo:\n"
   ]
  },
  {
   "cell_type": "code",
   "execution_count": 6,
   "metadata": {
    "colab": {
     "base_uri": "https://localhost:8080/"
    },
    "executionInfo": {
     "elapsed": 5,
     "status": "ok",
     "timestamp": 1625246885961,
     "user": {
      "displayName": "Federico Baiocco",
      "photoUrl": "https://lh3.googleusercontent.com/a-/AOh14Ghf2wyATB48QBNVeVnR-1Y2rw_O5uZLAvphY2Otz9c=s64",
      "userId": "14260194928165318342"
     },
     "user_tz": 180
    },
    "id": "JHXJIrdeQxaY",
    "outputId": "69584ba2-3103-4b8b-df3b-fffb86f9f3e9"
   },
   "outputs": [
    {
     "name": "stdout",
     "output_type": "stream",
     "text": [
      "text = str\n"
     ]
    }
   ],
   "source": [
    "print(\"text = str\") "
   ]
  },
  {
   "cell_type": "code",
   "execution_count": 13,
   "metadata": {
    "colab": {
     "base_uri": "https://localhost:8080/"
    },
    "executionInfo": {
     "elapsed": 4,
     "status": "ok",
     "timestamp": 1625246886314,
     "user": {
      "displayName": "Federico Baiocco",
      "photoUrl": "https://lh3.googleusercontent.com/a-/AOh14Ghf2wyATB48QBNVeVnR-1Y2rw_O5uZLAvphY2Otz9c=s64",
      "userId": "14260194928165318342"
     },
     "user_tz": 180
    },
    "id": "DBbBI2UMQ0wr",
    "outputId": "0c16b7b6-e479-4ad3-aef1-7d381b9390d8"
   },
   "outputs": [
    {
     "data": {
      "text/plain": [
       "bool"
      ]
     },
     "execution_count": 13,
     "metadata": {},
     "output_type": "execute_result"
    }
   ],
   "source": [
    "type(False)"
   ]
  },
  {
   "cell_type": "code",
   "execution_count": null,
   "metadata": {
    "colab": {
     "base_uri": "https://localhost:8080/",
     "height": 35
    },
    "executionInfo": {
     "elapsed": 325,
     "status": "ok",
     "timestamp": 1625246896312,
     "user": {
      "displayName": "Federico Baiocco",
      "photoUrl": "https://lh3.googleusercontent.com/a-/AOh14Ghf2wyATB48QBNVeVnR-1Y2rw_O5uZLAvphY2Otz9c=s64",
      "userId": "14260194928165318342"
     },
     "user_tz": 180
    },
    "id": "kcnGXFpcQ314",
    "outputId": "1a0c539e-350f-45f3-ae76-1100ed0cecc3"
   },
   "outputs": [
    {
     "data": {
      "application/vnd.google.colaboratory.intrinsic+json": {
       "type": "string"
      },
      "text/plain": [
       "'a'"
      ]
     },
     "execution_count": 3,
     "metadata": {
      "tags": []
     },
     "output_type": "execute_result"
    }
   ],
   "source": [
    "\"a\""
   ]
  },
  {
   "cell_type": "markdown",
   "metadata": {
    "id": "qbna6pvh3kvU"
   },
   "source": [
    "# Comandos mágicos\n",
    "\n",
    "Los comandos mágicos no son más que comandos los cuales están pensandos para resolver tareas comunes y repetitivas. Son muy fáciles de identificar, ya que poseen el prefijo de porcentaje (%)."
   ]
  },
  {
   "cell_type": "code",
   "execution_count": 15,
   "metadata": {
    "colab": {
     "base_uri": "https://localhost:8080/"
    },
    "executionInfo": {
     "elapsed": 284,
     "status": "ok",
     "timestamp": 1625877935475,
     "user": {
      "displayName": "Federico Baiocco",
      "photoUrl": "https://lh3.googleusercontent.com/a-/AOh14Ghf2wyATB48QBNVeVnR-1Y2rw_O5uZLAvphY2Otz9c=s64",
      "userId": "14260194928165318342"
     },
     "user_tz": 180
    },
    "id": "1NqZMgl-3mMj",
    "outputId": "9295343b-147f-4300-a7e9-c33e1bfa3c2d"
   },
   "outputs": [
    {
     "name": "stdout",
     "output_type": "stream",
     "text": [
      "Wall time: 0 ns\n"
     ]
    },
    {
     "data": {
      "text/plain": [
       "5"
      ]
     },
     "execution_count": 15,
     "metadata": {},
     "output_type": "execute_result"
    }
   ],
   "source": [
    "%%time\n",
    "3+2"
   ]
  },
  {
   "cell_type": "markdown",
   "metadata": {
    "id": "O5lE4rFl4ZGK"
   },
   "source": [
    "Vamos a estar utilizandolos más adelante a lo largo del curso."
   ]
  },
  {
   "cell_type": "markdown",
   "metadata": {
    "id": "Pf-mKbb74MUL"
   },
   "source": [
    "# Comandos de terminal\n",
    "\n",
    "\n"
   ]
  },
  {
   "cell_type": "code",
   "execution_count": 16,
   "metadata": {
    "colab": {
     "base_uri": "https://localhost:8080/"
    },
    "executionInfo": {
     "elapsed": 273,
     "status": "ok",
     "timestamp": 1625878074646,
     "user": {
      "displayName": "Federico Baiocco",
      "photoUrl": "https://lh3.googleusercontent.com/a-/AOh14Ghf2wyATB48QBNVeVnR-1Y2rw_O5uZLAvphY2Otz9c=s64",
      "userId": "14260194928165318342"
     },
     "user_tz": 180
    },
    "id": "Tz16omJi4CRw",
    "outputId": "ac95e543-b252-4ae3-a94b-f55e55e227d4"
   },
   "outputs": [],
   "source": [
    "#creo una carpeta\n",
    "!mkdir Clase1"
   ]
  },
  {
   "cell_type": "code",
   "execution_count": 25,
   "metadata": {
    "colab": {
     "base_uri": "https://localhost:8080/"
    },
    "executionInfo": {
     "elapsed": 278,
     "status": "ok",
     "timestamp": 1625878096308,
     "user": {
      "displayName": "Federico Baiocco",
      "photoUrl": "https://lh3.googleusercontent.com/a-/AOh14Ghf2wyATB48QBNVeVnR-1Y2rw_O5uZLAvphY2Otz9c=s64",
      "userId": "14260194928165318342"
     },
     "user_tz": 180
    },
    "id": "bmKzsREG4pE_",
    "outputId": "3f155e22-bf44-4564-a18a-6d638a4343b6"
   },
   "outputs": [
    {
     "data": {
      "text/plain": [
       "'C:\\\\Users\\\\apacek\\\\OneDrive - Practia\\\\Escritorio\\\\curso\\\\clases'"
      ]
     },
     "execution_count": 25,
     "metadata": {},
     "output_type": "execute_result"
    }
   ],
   "source": [
    "pwd"
   ]
  },
  {
   "cell_type": "code",
   "execution_count": 28,
   "metadata": {},
   "outputs": [
    {
     "name": "stdout",
     "output_type": "stream",
     "text": [
      "Requirement already satisfied: numpy in c:\\users\\apacek\\anaconda3\\lib\\site-packages (1.22.0)\n"
     ]
    }
   ],
   "source": [
    "#numpy \n",
    "!pip install numpy"
   ]
  },
  {
   "cell_type": "markdown",
   "metadata": {},
   "source": [
    "## tipos de datos"
   ]
  },
  {
   "cell_type": "code",
   "execution_count": null,
   "metadata": {},
   "outputs": [],
   "source": [
    "# palabras ------------> string\n",
    "# numeros --------------> int, float\n",
    "# True, False -----------> Booleanos"
   ]
  },
  {
   "cell_type": "markdown",
   "metadata": {},
   "source": [
    "## operaciones string "
   ]
  },
  {
   "cell_type": "code",
   "execution_count": 34,
   "metadata": {},
   "outputs": [],
   "source": [
    "a = \"hola\""
   ]
  },
  {
   "cell_type": "code",
   "execution_count": 35,
   "metadata": {},
   "outputs": [
    {
     "data": {
      "text/plain": [
       "'hola'"
      ]
     },
     "execution_count": 35,
     "metadata": {},
     "output_type": "execute_result"
    }
   ],
   "source": [
    "a"
   ]
  },
  {
   "cell_type": "code",
   "execution_count": 40,
   "metadata": {},
   "outputs": [],
   "source": [
    "b = \" mundo\""
   ]
  },
  {
   "cell_type": "code",
   "execution_count": 38,
   "metadata": {},
   "outputs": [
    {
     "data": {
      "text/plain": [
       "'mundo'"
      ]
     },
     "execution_count": 38,
     "metadata": {},
     "output_type": "execute_result"
    }
   ],
   "source": [
    "b"
   ]
  },
  {
   "cell_type": "code",
   "execution_count": 44,
   "metadata": {
    "scrolled": true
   },
   "outputs": [
    {
     "data": {
      "text/plain": [
       "'HOLA58'"
      ]
     },
     "execution_count": 44,
     "metadata": {},
     "output_type": "execute_result"
    }
   ],
   "source": [
    "a.upper() + str(58)"
   ]
  },
  {
   "cell_type": "markdown",
   "metadata": {},
   "source": [
    "### Operaciones con booleanos"
   ]
  },
  {
   "cell_type": "code",
   "execution_count": 63,
   "metadata": {},
   "outputs": [
    {
     "data": {
      "text/plain": [
       "True"
      ]
     },
     "execution_count": 63,
     "metadata": {},
     "output_type": "execute_result"
    }
   ],
   "source": [
    "(False == False) or (True == True)"
   ]
  },
  {
   "cell_type": "markdown",
   "metadata": {},
   "source": [
    "### Operaciones numericas"
   ]
  },
  {
   "cell_type": "code",
   "execution_count": 51,
   "metadata": {},
   "outputs": [
    {
     "data": {
      "text/plain": [
       "4"
      ]
     },
     "execution_count": 51,
     "metadata": {},
     "output_type": "execute_result"
    }
   ],
   "source": [
    "2*2"
   ]
  },
  {
   "cell_type": "code",
   "execution_count": 52,
   "metadata": {},
   "outputs": [
    {
     "data": {
      "text/plain": [
       "8"
      ]
     },
     "execution_count": 52,
     "metadata": {},
     "output_type": "execute_result"
    }
   ],
   "source": [
    "2**3"
   ]
  },
  {
   "cell_type": "code",
   "execution_count": 59,
   "metadata": {},
   "outputs": [
    {
     "data": {
      "text/plain": [
       "4.0"
      ]
     },
     "execution_count": 59,
     "metadata": {},
     "output_type": "execute_result"
    }
   ],
   "source": [
    "8/2"
   ]
  },
  {
   "cell_type": "code",
   "execution_count": 60,
   "metadata": {},
   "outputs": [
    {
     "data": {
      "text/plain": [
       "0"
      ]
     },
     "execution_count": 60,
     "metadata": {},
     "output_type": "execute_result"
    }
   ],
   "source": [
    "4%2"
   ]
  },
  {
   "cell_type": "code",
   "execution_count": null,
   "metadata": {},
   "outputs": [],
   "source": [
    "8.0 #flotante"
   ]
  },
  {
   "cell_type": "code",
   "execution_count": 32,
   "metadata": {},
   "outputs": [
    {
     "data": {
      "text/plain": [
       "float"
      ]
     },
     "execution_count": 32,
     "metadata": {},
     "output_type": "execute_result"
    }
   ],
   "source": [
    "type(8.4)"
   ]
  },
  {
   "cell_type": "code",
   "execution_count": 99,
   "metadata": {},
   "outputs": [],
   "source": [
    "## Lista, tuplas y diccionarios\n",
    "\n",
    "lista1 = [str(35), 34, True] #listas estan indexeadas -- 0, 1, ...\n",
    "tupla1 = (str(34), 34, True) #tuplas\n",
    "dic1 = {'str':str(34), 'int': 34, 'bool': True} #dic, no estan indexeados"
   ]
  },
  {
   "cell_type": "code",
   "execution_count": 100,
   "metadata": {},
   "outputs": [
    {
     "data": {
      "text/plain": [
       "'35'"
      ]
     },
     "execution_count": 100,
     "metadata": {},
     "output_type": "execute_result"
    }
   ],
   "source": [
    "lista1[0]"
   ]
  },
  {
   "cell_type": "code",
   "execution_count": 102,
   "metadata": {},
   "outputs": [
    {
     "data": {
      "text/plain": [
       "34"
      ]
     },
     "execution_count": 102,
     "metadata": {},
     "output_type": "execute_result"
    }
   ],
   "source": [
    "lista1.pop(1) #borra el indice indicado y lo printea"
   ]
  },
  {
   "cell_type": "code",
   "execution_count": 106,
   "metadata": {},
   "outputs": [
    {
     "data": {
      "text/plain": [
       "True"
      ]
     },
     "execution_count": 106,
     "metadata": {},
     "output_type": "execute_result"
    }
   ],
   "source": [
    "lista1[1]"
   ]
  },
  {
   "cell_type": "code",
   "execution_count": null,
   "metadata": {},
   "outputs": [],
   "source": [
    "lista"
   ]
  },
  {
   "cell_type": "code",
   "execution_count": 74,
   "metadata": {},
   "outputs": [],
   "source": [
    "lista1.append(7)"
   ]
  },
  {
   "cell_type": "code",
   "execution_count": 75,
   "metadata": {},
   "outputs": [
    {
     "data": {
      "text/plain": [
       "['35', 34, True, 7]"
      ]
     },
     "execution_count": 75,
     "metadata": {},
     "output_type": "execute_result"
    }
   ],
   "source": [
    "lista1"
   ]
  },
  {
   "cell_type": "code",
   "execution_count": 78,
   "metadata": {},
   "outputs": [
    {
     "data": {
      "text/plain": [
       "True"
      ]
     },
     "execution_count": 78,
     "metadata": {},
     "output_type": "execute_result"
    }
   ],
   "source": [
    "tupla1[2]"
   ]
  },
  {
   "cell_type": "code",
   "execution_count": 79,
   "metadata": {},
   "outputs": [
    {
     "ename": "KeyError",
     "evalue": "0",
     "output_type": "error",
     "traceback": [
      "\u001b[1;31m---------------------------------------------------------------------------\u001b[0m",
      "\u001b[1;31mKeyError\u001b[0m                                  Traceback (most recent call last)",
      "\u001b[1;32m<ipython-input-79-5e53bd73ac2a>\u001b[0m in \u001b[0;36m<module>\u001b[1;34m\u001b[0m\n\u001b[1;32m----> 1\u001b[1;33m \u001b[0mdic1\u001b[0m\u001b[1;33m[\u001b[0m\u001b[1;36m0\u001b[0m\u001b[1;33m]\u001b[0m\u001b[1;33m\u001b[0m\u001b[1;33m\u001b[0m\u001b[0m\n\u001b[0m",
      "\u001b[1;31mKeyError\u001b[0m: 0"
     ]
    }
   ],
   "source": [
    "dic1[0] # no esta indexeado (por eso devuelve el error)"
   ]
  },
  {
   "cell_type": "code",
   "execution_count": 83,
   "metadata": {
    "scrolled": true
   },
   "outputs": [
    {
     "data": {
      "text/plain": [
       "True"
      ]
     },
     "execution_count": 83,
     "metadata": {},
     "output_type": "execute_result"
    }
   ],
   "source": [
    "dic1[\"bool\"] #consume la info --> KEYS "
   ]
  },
  {
   "cell_type": "code",
   "execution_count": 107,
   "metadata": {},
   "outputs": [],
   "source": [
    "## funciones \n",
    "\n",
    "\n",
    "def cuentita(x,y):\n",
    "    resultado = (x+y)/x * 10\n",
    "    return resultado\n"
   ]
  },
  {
   "cell_type": "code",
   "execution_count": 122,
   "metadata": {},
   "outputs": [
    {
     "data": {
      "text/plain": [
       "11.75438596491228"
      ]
     },
     "execution_count": 122,
     "metadata": {},
     "output_type": "execute_result"
    }
   ],
   "source": [
    "cuentita(5.7,1)"
   ]
  },
  {
   "cell_type": "code",
   "execution_count": 118,
   "metadata": {},
   "outputs": [],
   "source": [
    "lista_f = ['bisabuelo_pepe', 'abuelo_tito', 'papi_carlitos', 'messi', '1', '2','3']\n",
    "\n",
    "def bisabuelo(lista_familiar,bisnieto):\n",
    "    \"\"\"\n",
    "    ingresar lista ordenada de un arbol genealogico\n",
    "    bisabuelo, abuelo, padre, hijo\n",
    "    \n",
    "    \"\"\"\n",
    "    #encuentro a bisnieto. identifico su indice y cuento 4 ´para atras\n",
    "    \n",
    "    indice_bisnieto  = lista_familiar.index(bisnieto)\n",
    "    bisabuelo = lista_familiar[indice_bisnieto-3]\n",
    "    \n",
    "    return bisabuelo\n",
    "    "
   ]
  },
  {
   "cell_type": "code",
   "execution_count": 123,
   "metadata": {},
   "outputs": [
    {
     "data": {
      "text/plain": [
       "'bisabuelo_pepe'"
      ]
     },
     "execution_count": 123,
     "metadata": {},
     "output_type": "execute_result"
    }
   ],
   "source": [
    "bisabuelo(lista_f,'messi')"
   ]
  },
  {
   "cell_type": "code",
   "execution_count": null,
   "metadata": {},
   "outputs": [],
   "source": []
  }
 ],
 "metadata": {
  "colab": {
   "authorship_tag": "ABX9TyMwouuoPsNrQOBEPUfRp9AC",
   "name": "Clase1 .ipynb",
   "provenance": []
  },
  "kernelspec": {
   "display_name": "Python 3",
   "language": "python",
   "name": "python3"
  },
  "language_info": {
   "codemirror_mode": {
    "name": "ipython",
    "version": 3
   },
   "file_extension": ".py",
   "mimetype": "text/x-python",
   "name": "python",
   "nbconvert_exporter": "python",
   "pygments_lexer": "ipython3",
   "version": "3.8.8"
  },
  "vscode": {
   "interpreter": {
    "hash": "892d461b55a6ce994a56bafd67ae2f3489d9f23234c096cfb51dfe498c166e4b"
   }
  }
 },
 "nbformat": 4,
 "nbformat_minor": 1
}
