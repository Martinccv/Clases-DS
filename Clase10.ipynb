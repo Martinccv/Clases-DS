{
  "cells": [
    {
      "cell_type": "markdown",
      "metadata": {
        "id": "IZqAjLMQ5JHo"
      },
      "source": [
        "# Programación orientada a objetos\n",
        "\n",
        "Vimos que las clases son como plantillas para instanciar objetos. Estos objetos van a tener atributos y métodos.\n",
        "\n",
        "¿ Cómo definimos todo esto en python ?"
      ]
    },
    {
      "cell_type": "markdown",
      "metadata": {
        "id": "MI_50Naj5b-Q"
      },
      "source": [
        "## Definimos una clase\n",
        "\n",
        "Para definir clases se utiliza la palabra reservada ``class``.\n",
        "\n",
        "Los nombres de las clases, suelen ponerse con la primer letra en mayúsculas (no nos va a fallar nada si no lo hacemos, pero esta bueno si lo respetamos)\n",
        "\n",
        "Las clases tienen un **mètodo** que se llama ``__init__ ``. Este método es el que inicializa una clase. También es conocido como \"constructor\"\n",
        "\n",
        "En los parámetros que recibe el método ``__init__``, podemos definir los elementos que son necesarios para crear un objeto de nuestra clase. En el caso de la clase Persona vamos a usar Nombre y Edad.\n",
        "\n",
        "``self``: Cuando nos querramos referir a un atributo propio de nuestra clase, debemos utilizar la palabra reservada ``self``.\n",
        "\n",
        "\n",
        "Veamos un ejemplo:\n"
      ]
    },
    {
      "cell_type": "code",
      "execution_count": 1,
      "metadata": {
        "id": "0BDAIPCS5F91"
      },
      "outputs": [],
      "source": [
        "class Persona:\n",
        "  \"\"\"\n",
        "  Definición de una Persona.\n",
        "  \"\"\"\n",
        "  def __init__(self, nombre, edad):\n",
        "    self.nombre = nombre\n",
        "    self.edad = edad\n"
      ]
    },
    {
      "cell_type": "markdown",
      "metadata": {
        "id": "mTg_eg0N6zrF"
      },
      "source": [
        "Ya definimos nuestra Clase! Ahora, instanciemos un objeto de la misma.\n",
        "\n",
        "Para instanciar un objeto de esta clase vamos a tener que pasarle un nombre y edad."
      ]
    },
    {
      "cell_type": "code",
      "execution_count": 2,
      "metadata": {
        "id": "ZwBQuCqO6y6Z"
      },
      "outputs": [],
      "source": [
        "persona_1 = Persona(\"Jose\", 44)"
      ]
    },
    {
      "cell_type": "code",
      "execution_count": 3,
      "metadata": {
        "id": "TGaImZtD7DAm"
      },
      "outputs": [
        {
          "data": {
            "text/plain": [
              "<__main__.Persona at 0x1515bdf8390>"
            ]
          },
          "execution_count": 3,
          "metadata": {},
          "output_type": "execute_result"
        }
      ],
      "source": [
        "persona_1"
      ]
    },
    {
      "cell_type": "markdown",
      "metadata": {
        "id": "NNsvXnqG7OHS"
      },
      "source": [
        "Para acceder a los atributos de una clase se usa un punto ``.`` seguido por el nombre del atributo al que queremos acceder."
      ]
    },
    {
      "cell_type": "code",
      "execution_count": 4,
      "metadata": {
        "id": "5cCFvV9F7Lfc"
      },
      "outputs": [
        {
          "data": {
            "text/plain": [
              "'Jose'"
            ]
          },
          "execution_count": 4,
          "metadata": {},
          "output_type": "execute_result"
        }
      ],
      "source": [
        "persona_1.nombre"
      ]
    },
    {
      "cell_type": "code",
      "execution_count": 5,
      "metadata": {
        "id": "b9yxAsID7VKw"
      },
      "outputs": [
        {
          "data": {
            "text/plain": [
              "44"
            ]
          },
          "execution_count": 5,
          "metadata": {},
          "output_type": "execute_result"
        }
      ],
      "source": [
        "persona_1.edad"
      ]
    },
    {
      "cell_type": "markdown",
      "metadata": {
        "id": "SIXe0lWD7bXE"
      },
      "source": [
        "Si miramos el type de el objeto persona_1:"
      ]
    },
    {
      "cell_type": "code",
      "execution_count": 6,
      "metadata": {
        "id": "tgjxgc9h7WeM"
      },
      "outputs": [
        {
          "data": {
            "text/plain": [
              "__main__.Persona"
            ]
          },
          "execution_count": 6,
          "metadata": {},
          "output_type": "execute_result"
        }
      ],
      "source": [
        "type(persona_1)"
      ]
    },
    {
      "cell_type": "markdown",
      "metadata": {
        "id": "KzJhLEt3-ELk"
      },
      "source": [
        "El valor de los atributos de los objetos se puede modificar como cualquier variable"
      ]
    },
    {
      "cell_type": "code",
      "execution_count": 7,
      "metadata": {
        "id": "UfPyJXvn7etb"
      },
      "outputs": [],
      "source": [
        "persona_1.edad = 45"
      ]
    },
    {
      "cell_type": "code",
      "execution_count": 8,
      "metadata": {
        "id": "Jjr1kicx-KEZ"
      },
      "outputs": [
        {
          "data": {
            "text/plain": [
              "45"
            ]
          },
          "execution_count": 8,
          "metadata": {},
          "output_type": "execute_result"
        }
      ],
      "source": [
        "persona_1.edad"
      ]
    },
    {
      "cell_type": "markdown",
      "metadata": {
        "id": "X4INma0b-QuI"
      },
      "source": [
        "## Métodos\n",
        "\n",
        "Vimos que en una clase podemos definir métodos (funciones).\n",
        "\n",
        "Los métodos pueden actuar sobre los valores de otros atributos de esa instancia, pueden devolver algun output a traves de return o pueden hacer ambas cosas.\n",
        "\n",
        "Para llamar a un método, utilizamos el . seguido por el nombre del mismo.\n",
        "\n",
        "Vamos a darle un método a la clase persona:"
      ]
    },
    {
      "cell_type": "code",
      "execution_count": 9,
      "metadata": {
        "id": "ZsTD34z--Ljz"
      },
      "outputs": [],
      "source": [
        "class Persona:\n",
        "  \"\"\"\n",
        "  Definición de una Persona.\n",
        "  \"\"\"\n",
        "  def __init__(self, nombre, edad):\n",
        "    self.nombre = nombre\n",
        "    self.edad = edad\n",
        "\n",
        "  def digo_mi_nombre(self):\n",
        "    print(f\"Me llamo {self.nombre}.\")"
      ]
    },
    {
      "cell_type": "code",
      "execution_count": 10,
      "metadata": {
        "id": "C9aS-leC-rnx"
      },
      "outputs": [
        {
          "name": "stdout",
          "output_type": "stream",
          "text": [
            "Me llamo Juan.\n"
          ]
        }
      ],
      "source": [
        "persona_2 = Persona(\"Juan\", 20)\n",
        "persona_2.digo_mi_nombre()"
      ]
    },
    {
      "cell_type": "markdown",
      "metadata": {
        "id": "XU2_pUf8-8Xa"
      },
      "source": [
        "Como ya dijimos, los métodos tambien pueden modificar el valor de ciertos atributos de una instancia. Vamos a crear un método para la clase persona, que haga cumplir un año a la persona y al mismo tiempo nos devuelva el valor de su edad:"
      ]
    },
    {
      "cell_type": "code",
      "execution_count": 11,
      "metadata": {
        "id": "w4ocMBvb-xKy"
      },
      "outputs": [],
      "source": [
        "class Persona:\n",
        "  \"\"\"\n",
        "  Definición de una Persona.\n",
        "  \"\"\"\n",
        "  def __init__(self, nombre, edad):\n",
        "    self.nombre = nombre\n",
        "    self.edad = edad\n",
        "\n",
        "  def digo_mi_nombre(self):\n",
        "    print(f\"Me llamo {self.nombre}.\")\n",
        "\n",
        "  def cumplo_anios(self):\n",
        "      self.edad = self.edad + 1\n",
        "      return self.edad"
      ]
    },
    {
      "cell_type": "code",
      "execution_count": 12,
      "metadata": {
        "id": "NsFDNofD_GCM"
      },
      "outputs": [
        {
          "data": {
            "text/plain": [
              "40"
            ]
          },
          "execution_count": 12,
          "metadata": {},
          "output_type": "execute_result"
        }
      ],
      "source": [
        "persona_3 = Persona(\"Carolina\", 40)\n",
        "persona_3.edad"
      ]
    },
    {
      "cell_type": "code",
      "execution_count": 13,
      "metadata": {
        "id": "pivJXIWX_LBm"
      },
      "outputs": [
        {
          "data": {
            "text/plain": [
              "41"
            ]
          },
          "execution_count": 13,
          "metadata": {},
          "output_type": "execute_result"
        }
      ],
      "source": [
        "persona_3.cumplo_anios()"
      ]
    },
    {
      "cell_type": "code",
      "execution_count": 14,
      "metadata": {
        "id": "oqZN569M_Mb6"
      },
      "outputs": [
        {
          "data": {
            "text/plain": [
              "41"
            ]
          },
          "execution_count": 14,
          "metadata": {},
          "output_type": "execute_result"
        }
      ],
      "source": [
        "persona_3.edad"
      ]
    },
    {
      "cell_type": "markdown",
      "metadata": {
        "id": "Ke4CsSlS_Uxi"
      },
      "source": [
        "Estos nombres de métodos con doble guión-bajo a los costados indican que se trata de un método mágico. Son nombres especiales que Python se reserva para métodos que tienen una función específica. Por ejemplo, el método mágico ``__init__`` se correrá automáticamente cuando creemos una instancia de la clase."
      ]
    },
    {
      "cell_type": "code",
      "execution_count": 15,
      "metadata": {
        "id": "4h6ci7m2_OCM"
      },
      "outputs": [],
      "source": [
        "class Persona:\n",
        "  \"\"\"\n",
        "  Definición de una Persona.\n",
        "  \"\"\"\n",
        "  def __init__(self, nombre, edad):\n",
        "    self.nombre = nombre\n",
        "    self.edad = edad\n",
        "    print(\"SE EJECUTA EL MÉTODO INIT PORQUE CREAMOS UNA NUEVA INSTANCIA!\")\n",
        "\n",
        "  def digo_mi_nombre(self):\n",
        "    print(f\"Me llamo {self.nombre}.\")\n",
        "\n",
        "  def cumplo_anios(self):\n",
        "      self.edad = self.edad + 1\n",
        "      return self.edad"
      ]
    },
    {
      "cell_type": "code",
      "execution_count": 16,
      "metadata": {
        "id": "GlAba3wN_f6E"
      },
      "outputs": [
        {
          "name": "stdout",
          "output_type": "stream",
          "text": [
            "SE EJECUTA EL MÉTODO INIT PORQUE CREAMOS UNA NUEVA INSTANCIA!\n"
          ]
        }
      ],
      "source": [
        "persona_4 = Persona('Florencia', 24)"
      ]
    },
    {
      "cell_type": "markdown",
      "metadata": {
        "id": "QMONfyH3_nnb"
      },
      "source": [
        "## Consistencia\n",
        "\n",
        "Uno de los beneficios de trabajar con clases es el hecho de poder chequear la consistencia de los distintos atributos pertenecientes a una misma instancia de esa clase.\n",
        "\n",
        "Por ejemplo, imaginen que tenemos una clase llamada Casa que representa una casa. Esta clase puede tener atributos como \"superficie_total\" y \"superficie_cubierta\". Sabemos que la superficie cubierta nunca podría ser mayor a la total, y podemos validar esto en el método init de la clase:"
      ]
    },
    {
      "cell_type": "code",
      "execution_count": 17,
      "metadata": {
        "id": "nvRLQRaC_jHU"
      },
      "outputs": [],
      "source": [
        "class Casa:\n",
        "    def __init__(self, calle, altura, superficie_total, superficie_cubierta):\n",
        "        self.calle = calle\n",
        "        self.altura = altura\n",
        "        self.superficie_total = superficie_total\n",
        "        if superficie_cubierta < superficie_total:\n",
        "            self.superficie_cubierta = self.superficie_cubierta\n",
        "        else:\n",
        "            print(\"El valor de superficie cubierta no puede ser mayor a el de superficie total. Se asigna superficie cubierta = superficie total\")\n",
        "            self.superficie_cubierta = self.superficie_total"
      ]
    },
    {
      "cell_type": "code",
      "execution_count": 18,
      "metadata": {
        "id": "e8u8FNmoAU-K"
      },
      "outputs": [
        {
          "name": "stdout",
          "output_type": "stream",
          "text": [
            "El valor de superficie cubierta no puede ser mayor a el de superficie total. Se asigna superficie cubierta = superficie total\n"
          ]
        }
      ],
      "source": [
        "casa_1 = Casa(calle='Colón', altura=2000, superficie_total=100, superficie_cubierta=106)"
      ]
    },
    {
      "cell_type": "code",
      "execution_count": 19,
      "metadata": {
        "id": "lF4mNXVnAfgC"
      },
      "outputs": [
        {
          "data": {
            "text/plain": [
              "100"
            ]
          },
          "execution_count": 19,
          "metadata": {},
          "output_type": "execute_result"
        }
      ],
      "source": [
        "casa_1.superficie_cubierta"
      ]
    },
    {
      "cell_type": "code",
      "execution_count": 20,
      "metadata": {
        "id": "OAGzfL1HAjPJ"
      },
      "outputs": [
        {
          "data": {
            "text/plain": [
              "100"
            ]
          },
          "execution_count": 20,
          "metadata": {},
          "output_type": "execute_result"
        }
      ],
      "source": [
        "casa_1.superficie_total"
      ]
    },
    {
      "cell_type": "markdown",
      "metadata": {
        "id": "YdQCqi8VAqEk"
      },
      "source": [
        "Otro de los beneficios de trabajar con objetos consiste en tener todas las variables relevantes agrupadas en un mismo objeto. De esta forma se nos facilita la tarea a la hora de mover esta información.\n",
        "\n",
        "Por ejemplo, si tenemos una función que calcula el precio de una casa en base a distintas propiedades de la misma, sería mucho más fácil para nosotros pasarle a esa función un único argumento (el objeto casa), y no cada uno de sus atributos:"
      ]
    },
    {
      "cell_type": "code",
      "execution_count": 21,
      "metadata": {
        "id": "eCKGjw-NAkaO"
      },
      "outputs": [],
      "source": [
        "def CalculaPrecios(casa):\n",
        "    precio = 7 * casa.superficie_total + 3 * casa.superficie_cubierta\n",
        "    return precio"
      ]
    },
    {
      "cell_type": "markdown",
      "metadata": {
        "id": "FyUfczazBo9p"
      },
      "source": [
        "# Ejercicios\n",
        "\n",
        "### Ejercicio 1\n",
        "\n",
        "Vamos a crear una clase llamada Persona. Sus atributos son: nombre, edad y DNI. Construye los siguientes métodos para la clase:\n",
        "\n",
        "- Un constructor (init), donde los datos pueden estar vacíos.\n",
        "- Un método set_ por cada atributo (set_nombre, set_edad y set_dni) en el que antes de setear un valor a los atributos se validen los mismos. Validar:\n",
        "  - Nombre tiene que ser str\n",
        "  - Edad tiene que ser int\n",
        "  - Dni tiene que ser str\n",
        "\n",
        "- Un método mostrar(): Muestra los datos de la persona.\n",
        "- Un método es_mayor_de_edad(): Devuelve un valor lógico indicando si es mayor de edad.\n",
        "\n",
        "\n",
        "### Ejercicio 2\n",
        "\n",
        "Crea una clase llamada Cuenta que tendrá los siguientes atributos:\n",
        "- titular (que es de el tipo Persona, la clase que creamos recién)\n",
        "- cantidad (puede tener decimales).\n",
        "El titular será obligatorio y la cantidad es opcional. Construye los siguientes métodos para la clase:\n",
        "\n",
        "- Un constructor, donde los datos pueden estar vacíos.\n",
        "- mostrar(): Muestra los datos de la cuenta.\n",
        "- ingresar(cantidad): se ingresa una cantidad a la cuenta, si la cantidad introducida es negativa, no se hará nada.\n",
        "- retirar(cantidad): se retira una cantidad a la cuenta. La cuenta puede estar en números negativos.\n",
        "\n",
        "\n",
        "\n"
      ]
    },
    {
      "cell_type": "code",
      "execution_count": null,
      "metadata": {
        "id": "l5CR6qkbA1em"
      },
      "outputs": [],
      "source": []
    }
  ],
  "metadata": {
    "colab": {
      "provenance": []
    },
    "kernelspec": {
      "display_name": "Python 3",
      "name": "python3"
    },
    "language_info": {
      "codemirror_mode": {
        "name": "ipython",
        "version": 3
      },
      "file_extension": ".py",
      "mimetype": "text/x-python",
      "name": "python",
      "nbconvert_exporter": "python",
      "pygments_lexer": "ipython3",
      "version": "3.11.9"
    }
  },
  "nbformat": 4,
  "nbformat_minor": 0
}
