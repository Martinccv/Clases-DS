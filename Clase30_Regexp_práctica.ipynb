{
  "cells": [
    {
      "cell_type": "markdown",
      "metadata": {
        "id": "view-in-github",
        "colab_type": "text"
      },
      "source": [
        "<a href=\"https://colab.research.google.com/github/Martinccv/Clases-DS/blob/main/Clase30_Regexp_pr%C3%A1ctica.ipynb\" target=\"_parent\"><img src=\"https://colab.research.google.com/assets/colab-badge.svg\" alt=\"Open In Colab\"/></a>"
      ]
    },
    {
      "cell_type": "markdown",
      "metadata": {
        "id": "RYQuNcDpcvJq"
      },
      "source": [
        "# Regexp\n",
        "\n",
        "Pueden utiliar las siguientes tablas como guia:  \n",
        "\n",
        "\n",
        "<table ><tr><th>Caracter</th><th>Descripción</th><th>Ejemplo código de patrón</th><th >Ejemplo Match</th></tr>\n",
        "\n",
        "<tr ><td><span >\\d</span></td><td>A digit</td><td>file_\\d\\d</td><td>file_25</td></tr>\n",
        "\n",
        "<tr ><td><span >\\w</span></td><td> matches a \"word\" character: a letter or digit or underbar</td><td>\\w-\\w\\w\\w</td><td>A-b_1</td></tr>\n",
        "\n",
        "\n",
        "\n",
        "<tr ><td><span >\\s</span></td><td>White space</td><td>a\\sb\\sc</td><td>a b c</td></tr>\n",
        "\n",
        "\n",
        "\n",
        "<tr ><td><span >\\D</span></td><td>A non digit</td><td>\\D\\D\\D</td><td>ABC</td></tr>\n",
        "\n",
        "<tr ><td><span >\\W</span></td><td>Non-word</td><td>\\W\\W\\W\\W\\W</td><td>*-+=)</td></tr>\n",
        "\n",
        "<tr ><td><span >\\S</span></td><td>Non-whitespace</td><td>\\S\\S\\S\\S</td><td>Yoyo</td></tr></table>\n"
      ]
    },
    {
      "cell_type": "markdown",
      "metadata": {
        "id": "cygW3v3cham9"
      },
      "source": [
        "\n",
        "<table ><tr><th>Caracter</th><th>Descripción</th><th>Ejemplo código patrón</th><th >Ejemplo Match</th></tr>\n",
        "\n",
        "<tr ><td><span >+</span></td><td>Occurs one or more times</td><td>\tVersion \\w-\\w+</td><td>Version A-b1_1</td></tr>\n",
        "\n",
        "<tr ><td><span >{3}</span></td><td>Occurs exactly 3 times</td><td>\\D{3}</td><td>abc</td></tr>\n",
        "\n",
        "\n",
        "\n",
        "<tr ><td><span >{2,4}</span></td><td>Occurs 2 to 4 times</td><td>\\d{2,4}</td><td>123</td></tr>\n",
        "\n",
        "\n",
        "\n",
        "<tr ><td><span >{3,}</span></td><td>Occurs 3 or more</td><td>\\w{3,}</td><td>anycharacters</td></tr>\n",
        "\n",
        "<tr ><td><span >\\*</span></td><td>Occurs zero or more times</td><td>A\\*B\\*C*</td><td>AAACC</td></tr>"
      ]
    },
    {
      "cell_type": "markdown",
      "metadata": {
        "id": "MG5t08urhjhZ"
      },
      "source": [
        "el notebook de la clase pasada y GOOGLE también."
      ]
    },
    {
      "cell_type": "markdown",
      "metadata": {
        "id": "85tn_Wb7hdU3"
      },
      "source": [
        "\n",
        "\n",
        "\n",
        "\n",
        "# Ejercicios\n",
        "\n",
        "## 1)\n",
        "\n",
        "Dado el siguiente texto:"
      ]
    },
    {
      "cell_type": "code",
      "execution_count": 1,
      "metadata": {
        "id": "8ZdNPttfcsNb"
      },
      "outputs": [],
      "source": [
        "text = \"\"\"\n",
        "In recent years, supervised learning with convolutional networks (CNNs) has seen huge adoption in computer vision applications.\n",
        "Comparatively, unsupervised learning with CNNs has received less attention.\n",
        "In this work we hope to help bridge the gap between the success of CNNs for supervised learning and unsuper- vised learning.\n",
        "We introduce a class of CNNs called deep convolutional generative adversarial networks (DCGANs), that have certain architectural constraints, and demonstrate that they are a strong candidate for unsupervised learning.\n",
        "Training on various image datasets, we show convincing evidence that our deep convolutional adversarial pair learns a hierarchy of representations from object parts to scenes in both the generator and discriminator.\n",
        "Additionally, we use the learned features for novel tasks - demonstrating their applicability as general image repre- sentations.\n",
        "\"\"\""
      ]
    },
    {
      "cell_type": "markdown",
      "metadata": {
        "id": "tFSdStQJf5V-"
      },
      "source": [
        "a) Extraer todas las palabras que se encuentran entre paréntesis. (utilizando regex)."
      ]
    },
    {
      "cell_type": "code",
      "source": [
        "import re"
      ],
      "metadata": {
        "id": "YmOHE7fABXkh"
      },
      "execution_count": 39,
      "outputs": []
    },
    {
      "cell_type": "code",
      "execution_count": 40,
      "metadata": {
        "id": "_ooTMFKjezpT",
        "colab": {
          "base_uri": "https://localhost:8080/"
        },
        "outputId": "dfb49fb8-000b-4288-f656-d5b3caaf3b0a"
      },
      "outputs": [
        {
          "output_type": "stream",
          "name": "stdout",
          "text": [
            "Palabras entre paréntesis: ['CNNs', 'DCGANs']\n"
          ]
        }
      ],
      "source": [
        "#COMPLETAR\n",
        "parentheses_words = re.findall(r'\\((.*?)\\)', text)\n",
        "print(\"Palabras entre paréntesis:\", parentheses_words)"
      ]
    },
    {
      "cell_type": "markdown",
      "metadata": {
        "id": "Z67krBR2gT6w"
      },
      "source": [
        "b) Extraer todas las palabras que comiencen con la letra \"c\" minúscula o mayúscula."
      ]
    },
    {
      "cell_type": "code",
      "execution_count": 43,
      "metadata": {
        "id": "fPlwJ-EIgNLe",
        "colab": {
          "base_uri": "https://localhost:8080/"
        },
        "outputId": "14fa2162-de6a-422c-d1e8-686670524798"
      },
      "outputs": [
        {
          "output_type": "stream",
          "name": "stdout",
          "text": [
            "Palabras que comienzan con 'c': ['convolutional', 'computer', 'class', 'called', 'convolutional', 'certain', 'constraints', 'candidate', 'convincing', 'convolutional']\n"
          ]
        }
      ],
      "source": [
        "#Palabras que comiencen con \"c\"\n",
        "c_words = re.findall(r'\\b[c]\\w*', text)\n",
        "print(\"Palabras que comienzan con 'c':\", c_words)"
      ]
    },
    {
      "cell_type": "markdown",
      "metadata": {
        "id": "Mm35yW2DihXU"
      },
      "source": [
        "c) Extraer todas las palabras que terminen en \"r\""
      ]
    },
    {
      "cell_type": "code",
      "execution_count": 44,
      "metadata": {
        "id": "kCZxMi_ChqpD",
        "colab": {
          "base_uri": "https://localhost:8080/"
        },
        "outputId": "ab06ea8f-b887-4e9b-e3d6-14dd93e68887"
      },
      "outputs": [
        {
          "output_type": "stream",
          "name": "stdout",
          "text": [
            "Palabras que terminan en 'r': ['computer', 'for', 'unsuper', 'for', 'our', 'pair', 'generator', 'discriminator', 'for', 'their']\n"
          ]
        }
      ],
      "source": [
        "#COMPLETAR\n",
        "r_words = re.findall(r'\\b\\w*r\\b', text)\n",
        "print(\"Palabras que terminan en 'r':\", r_words)"
      ]
    },
    {
      "cell_type": "markdown",
      "metadata": {
        "id": "sG3LnS8Yj7AQ"
      },
      "source": [
        "## 2)\n",
        "\n",
        "Dado el siguiente listado de strings (tener en cuenta que es una lista iterable):"
      ]
    },
    {
      "cell_type": "code",
      "execution_count": 47,
      "metadata": {
        "id": "tBTf0x4wiw6_"
      },
      "outputs": [],
      "source": [
        "strings_list = [\n",
        "                \"federico@gmail.com\",\n",
        "                \"holagmail.com\",\n",
        "                \"123julian456@yahoo.com.ar\",\n",
        "                \"hola_como_estas@hotmail.com\",\n",
        "                \"+54 9 351 276550\",\n",
        "                \"+54 351 202020\",\n",
        "                \"www.Google.com.ar\",\n",
        "                \"ww.faltaunaw.net\",\n",
        "                \"https://www.colab.com\",\n",
        "                \"http://www.paginaweb.com\",\n",
        "                \"www.facebook.com.ar\",\n",
        "                \"www.pagina.com.ar\",\n",
        "                \".www.facebookmal.com.ar\",\n",
        "                \"@messi\",\n",
        "                \"@scaloneta.2022\",\n",
        "                \"www.pagina@malescrita.com\",\n",
        "                \"@usuario_de_instagram\",\n",
        "                \"xxxuuuu@\",\n",
        "                \"1324282.,\",\n",
        "                \"fnoae8301l;aef'\",\n",
        "                \"www.com\",\n",
        "                \"www.pagina.net.\"\n",
        "                \"w.p.com.ar\",\n",
        "                \"www.paginados.net\"\n",
        "                ]"
      ]
    },
    {
      "cell_type": "markdown",
      "metadata": {
        "id": "MiKx7iVplMIw"
      },
      "source": [
        "a) Imprimir todos los emails válidos. Un email válido:\n",
        "\n",
        "- Puede contener letras, números y \"_\" seguido de una de las siguientes opciones:\n",
        "  - @gmail.com\n",
        "  - @yahoo.com.ar\n",
        "  - @hotmail.com"
      ]
    },
    {
      "cell_type": "code",
      "execution_count": 48,
      "metadata": {
        "id": "jIrr7vhuk7rt",
        "colab": {
          "base_uri": "https://localhost:8080/"
        },
        "outputId": "4083a325-3ed3-4e64-f948-48687f5c7efe"
      },
      "outputs": [
        {
          "output_type": "stream",
          "name": "stdout",
          "text": [
            "Emails válidos: ['federico@gmail.com', '123julian456@yahoo.com.ar', 'hola_como_estas@hotmail.com']\n"
          ]
        }
      ],
      "source": [
        "#COMPLETAR\n",
        "# a) Imprimir todos los emails válidos\n",
        "email_pattern = re.compile(r'^[\\w]+@[gmail\\.com|yahoo\\.com\\.ar|hotmail\\.com]+$')\n",
        "valid_emails = [s for s in strings_list if email_pattern.match(s)]\n",
        "print(\"Emails válidos:\", valid_emails)"
      ]
    },
    {
      "cell_type": "markdown",
      "metadata": {
        "id": "ylHeQjjEne9C"
      },
      "source": [
        "b) Imprimir todas las URL válidas.\n",
        "\n",
        "- INICIO: Pueden comenzar con \"www.\" o con \"http://www.\" o con \"https://www.\"\n",
        "- FIN: Pueden terminar con \".com\", \".com.ar\", \".net\"\n",
        "- Entre INICIO y FIN no puede haber números ni ningún caracter especial (pista: [aA-zZ] sirve para matchear de la a la z en mayuscula o minúscula)"
      ]
    },
    {
      "cell_type": "code",
      "execution_count": 49,
      "metadata": {
        "id": "b2JlL28lm1dW",
        "colab": {
          "base_uri": "https://localhost:8080/"
        },
        "outputId": "0e567e37-f5b0-45e8-f21f-1e1dcbd6085c"
      },
      "outputs": [
        {
          "output_type": "stream",
          "name": "stdout",
          "text": [
            "URLs válidas: ['www.Google.com.ar', 'https://www.colab.com', 'http://www.paginaweb.com', 'www.facebook.com.ar', 'www.pagina.com.ar', 'www.paginados.net']\n"
          ]
        }
      ],
      "source": [
        "#COMPLETAR\n",
        "# b) Imprimir todas las URL válidas\n",
        "url_pattern = re.compile(r'^(https?://www\\.|www\\.)[a-zA-Z]+(\\.com|\\.com\\.ar|\\.net)$')\n",
        "valid_urls = [s for s in strings_list if url_pattern.match(s)]\n",
        "print(\"URLs válidas:\", valid_urls)"
      ]
    }
  ],
  "metadata": {
    "colab": {
      "provenance": [],
      "include_colab_link": true
    },
    "kernelspec": {
      "display_name": "Python 3",
      "name": "python3"
    },
    "language_info": {
      "name": "python"
    }
  },
  "nbformat": 4,
  "nbformat_minor": 0
}