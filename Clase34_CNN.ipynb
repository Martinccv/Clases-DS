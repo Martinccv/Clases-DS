{
  "nbformat": 4,
  "nbformat_minor": 0,
  "metadata": {
    "colab": {
      "provenance": [],
      "gpuType": "T4",
      "include_colab_link": true
    },
    "kernelspec": {
      "name": "python3",
      "display_name": "Python 3"
    },
    "language_info": {
      "name": "python"
    },
    "accelerator": "GPU"
  },
  "cells": [
    {
      "cell_type": "markdown",
      "metadata": {
        "id": "view-in-github",
        "colab_type": "text"
      },
      "source": [
        "<a href=\"https://colab.research.google.com/github/Martinccv/Clases-DS/blob/main/Clase34_CNN.ipynb\" target=\"_parent\"><img src=\"https://colab.research.google.com/assets/colab-badge.svg\" alt=\"Open In Colab\"/></a>"
      ]
    },
    {
      "cell_type": "markdown",
      "metadata": {
        "id": "7ENiGAZ-3G0y"
      },
      "source": [
        "# CNN\n",
        "\n",
        "Vamos a buscar mejorar el modelo de la clase pasada, utilizando una CNN.\n",
        "\n",
        "Les recomiendo activar la GPU para que este notebook corra más rápido (sobre todo la parte de entrenamiento del modelo)"
      ]
    },
    {
      "cell_type": "code",
      "metadata": {
        "id": "0kf7Y99s3EWc"
      },
      "source": [
        "import tensorflow\n",
        "import numpy as np\n",
        "import matplotlib.pyplot as plt\n",
        "import seaborn as sns\n",
        "from tensorflow.keras.datasets import mnist"
      ],
      "execution_count": 6,
      "outputs": []
    },
    {
      "cell_type": "code",
      "source": [],
      "metadata": {
        "id": "X8i61jRG79re"
      },
      "execution_count": null,
      "outputs": []
    },
    {
      "cell_type": "markdown",
      "metadata": {
        "id": "wzjYKNlc_Gys"
      },
      "source": [
        "Primero cargarmos MINST.\n",
        "\n",
        "Hay que tener en cuenta que las layers Conv2D de tensorflow esperan recibir como input shape algo de la forma (tamaño del dataset, alto img, ancho img, canales).\n",
        "\n",
        "En este caso trabajamos con imagenes en blanco y negro por lo que constan de 1 solo canal.\n",
        "\n",
        "Eso lo especificamos en el siguiente reshape."
      ]
    },
    {
      "cell_type": "code",
      "metadata": {
        "id": "GQoKQ5mb4-sk"
      },
      "source": [
        "(X_train, y_train), (X_test, y_test) = mnist.load_data()\n",
        "\n",
        "X_train = X_train.reshape((X_train.shape[0], 28, 28, 1))\n",
        "X_test = X_test.reshape((X_test.shape[0], 28, 28, 1))"
      ],
      "execution_count": 7,
      "outputs": []
    },
    {
      "cell_type": "code",
      "source": [
        "plt.imshow(X_train[1])"
      ],
      "metadata": {
        "colab": {
          "base_uri": "https://localhost:8080/",
          "height": 447
        },
        "id": "cyFW-vcv8Es3",
        "outputId": "8dc25293-2468-4cb7-bafa-85a165b917ae"
      },
      "execution_count": 25,
      "outputs": [
        {
          "output_type": "execute_result",
          "data": {
            "text/plain": [
              "<matplotlib.image.AxesImage at 0x7a4592f3fe20>"
            ]
          },
          "metadata": {},
          "execution_count": 25
        },
        {
          "output_type": "display_data",
          "data": {
            "text/plain": [
              "<Figure size 640x480 with 1 Axes>"
            ],
            "image/png": "[encoded data removed]"
          },
          "metadata": {}
        }
      ]
    },
    {
      "cell_type": "markdown",
      "metadata": {
        "id": "Gbylojx7_b9p"
      },
      "source": [
        "En redes neuronales, es bueno escalar los datos. Llevamos todo a valores entre 0 y 1:"
      ]
    },
    {
      "cell_type": "code",
      "metadata": {
        "id": "XtlfxUgz5yPW"
      },
      "source": [
        "X_train = X_train / 255\n",
        "X_test = X_test / 255"
      ],
      "execution_count": 8,
      "outputs": []
    },
    {
      "cell_type": "markdown",
      "metadata": {
        "id": "qeMfBJOh_hGl"
      },
      "source": [
        "Aplicamos one hot encoder como la clase pasada:"
      ]
    },
    {
      "cell_type": "code",
      "metadata": {
        "id": "i22qoUjQ5CHe"
      },
      "source": [
        "from sklearn.preprocessing import OneHotEncoder\n",
        "\n",
        "ohe = OneHotEncoder(sparse_output=False)\n",
        "y_train = ohe.fit_transform(y_train.reshape(-1, 1))\n",
        "y_test = ohe.transform(y_test.reshape(-1, 1))"
      ],
      "execution_count": 9,
      "outputs": []
    },
    {
      "cell_type": "code",
      "metadata": {
        "id": "h5mNfTUB5Dd-"
      },
      "source": [
        "import tensorflow as tf\n",
        "from tensorflow.keras import datasets, layers, models\n",
        "import matplotlib.pyplot as plt"
      ],
      "execution_count": 10,
      "outputs": []
    },
    {
      "cell_type": "markdown",
      "metadata": {
        "id": "B3nriPHy_kXX"
      },
      "source": [
        "Ahora vamos a definir el modelo.\n",
        "\n",
        "EJERCICIO:\n",
        "\n",
        "Definir una CNN de la siguiente manera:\n",
        "\n",
        "- Capa Conv2D de 32 neuronas, filtro de 3x3, activación relu. Recuerden que deben definir también el input shape en esta capa.\n",
        "\n",
        "- Capa MaxPooling2D con filtro de 2x2\n",
        "\n",
        "- Capa Conv2D de 64 neuronas, filtro de 3x3 y activación relu\n",
        "\n",
        "- Capa Max pooling de 2x2"
      ]
    },
    {
      "cell_type": "code",
      "metadata": {
        "id": "J-pmTNex5E6K"
      },
      "source": [
        "#COMPLETAR\n",
        "import tensorflow as tf\n",
        "from tensorflow.keras import datasets, layers, models\n",
        "import matplotlib.pyplot as plt\n",
        "from tensorflow.keras.layers import Conv2D, MaxPooling2D\n",
        "from tensorflow.keras.layers import Dense, Flatten\n",
        "from tensorflow.keras.models import Sequential\n",
        "from tensorflow.keras.utils import to_categorical"
      ],
      "execution_count": 13,
      "outputs": []
    },
    {
      "cell_type": "code",
      "source": [
        "(x_train, y_train), (x_test, y_test) = mnist.load_data()\n",
        "x_train = x_train.astype('float32')\n",
        "x_test = x_test.astype('float32')\n",
        "x_train /= 255\n",
        "x_test /= 255\n",
        "\n",
        "x_train =x_train.reshape(-1, 28, 28, 1)\n",
        "x_test = x_test.reshape(-1, 28, 28, 1)\n",
        "\n",
        "y_train = to_categorical(y_train,10)\n",
        "y_test = to_categorical(y_test,10)"
      ],
      "metadata": {
        "id": "dgHjEyPq4mWW"
      },
      "execution_count": 14,
      "outputs": []
    },
    {
      "cell_type": "code",
      "source": [
        "model = Sequential()\n",
        "model.add(Conv2D(32, (3, 3), activation='relu', input_shape=(28, 28, 1)))\n",
        "\n",
        "model.add(MaxPooling2D((2, 2)))\n",
        "\n",
        "model.add(Conv2D(64, (3, 3), activation='relu'))\n",
        "\n",
        "model.add(MaxPooling2D((2, 2)))\n",
        "\n",
        "model.add(Flatten())\n",
        "\n",
        "model.add(Dense(64, activation='relu'))\n",
        "\n",
        "model.add(Dense(10, activation='softmax'))\n",
        "\n",
        "model.compile(optimizer=tf.keras.optimizers.Adam(learning_rate=0.0003),\n",
        "              loss=\"categorical_crossentropy\",\n",
        "              metrics=['accuracy'])\n",
        "history = model.fit(x_train, y_train, epochs=10, validation_data=(x_test, y_test))\n",
        "test_loss, test_acc = model.evaluate(x_test,  y_test, verbose=2)\n",
        "print(test_acc)\n",
        "print(test_loss)"
      ],
      "metadata": {
        "colab": {
          "base_uri": "https://localhost:8080/"
        },
        "id": "KTQpkz465Wgk",
        "outputId": "84a38038-042b-4dd9-e050-70d3e7cd8751"
      },
      "execution_count": 16,
      "outputs": [
        {
          "output_type": "stream",
          "name": "stdout",
          "text": [
            "Epoch 1/10\n",
            "1875/1875 [==============================] - 13s 5ms/step - loss: 0.2294 - accuracy: 0.9323 - val_loss: 0.0741 - val_accuracy: 0.9778\n",
            "Epoch 2/10\n",
            "1875/1875 [==============================] - 8s 4ms/step - loss: 0.0661 - accuracy: 0.9797 - val_loss: 0.0432 - val_accuracy: 0.9869\n",
            "Epoch 3/10\n",
            "1875/1875 [==============================] - 7s 4ms/step - loss: 0.0480 - accuracy: 0.9852 - val_loss: 0.0462 - val_accuracy: 0.9849\n",
            "Epoch 4/10\n",
            "1875/1875 [==============================] - 8s 4ms/step - loss: 0.0372 - accuracy: 0.9880 - val_loss: 0.0361 - val_accuracy: 0.9875\n",
            "Epoch 5/10\n",
            "1875/1875 [==============================] - 7s 4ms/step - loss: 0.0306 - accuracy: 0.9904 - val_loss: 0.0331 - val_accuracy: 0.9894\n",
            "Epoch 6/10\n",
            "1875/1875 [==============================] - 8s 4ms/step - loss: 0.0245 - accuracy: 0.9926 - val_loss: 0.0323 - val_accuracy: 0.9893\n",
            "Epoch 7/10\n",
            "1875/1875 [==============================] - 8s 4ms/step - loss: 0.0205 - accuracy: 0.9936 - val_loss: 0.0263 - val_accuracy: 0.9913\n",
            "Epoch 8/10\n",
            "1875/1875 [==============================] - 8s 4ms/step - loss: 0.0171 - accuracy: 0.9945 - val_loss: 0.0283 - val_accuracy: 0.9913\n",
            "Epoch 9/10\n",
            "1875/1875 [==============================] - 8s 4ms/step - loss: 0.0140 - accuracy: 0.9958 - val_loss: 0.0339 - val_accuracy: 0.9896\n",
            "Epoch 10/10\n",
            "1875/1875 [==============================] - 7s 4ms/step - loss: 0.0122 - accuracy: 0.9962 - val_loss: 0.0279 - val_accuracy: 0.9912\n",
            "313/313 - 1s - loss: 0.0279 - accuracy: 0.9912 - 617ms/epoch - 2ms/step\n",
            "0.9911999702453613\n",
            "0.02788260579109192\n"
          ]
        }
      ]
    },
    {
      "cell_type": "markdown",
      "source": [
        "Podemos ver como quedo nuestro modelo hasta ahora:"
      ],
      "metadata": {
        "id": "PFsVKYHFFOo1"
      }
    },
    {
      "cell_type": "code",
      "source": [
        "model.summary()"
      ],
      "metadata": {
        "id": "XlLFcNmrFQsB",
        "colab": {
          "base_uri": "https://localhost:8080/"
        },
        "outputId": "5c3779cf-ea72-48a1-fe73-c28235e75eec"
      },
      "execution_count": 17,
      "outputs": [
        {
          "output_type": "stream",
          "name": "stdout",
          "text": [
            "Model: \"sequential\"\n",
            "_________________________________________________________________\n",
            " Layer (type)                Output Shape              Param #   \n",
            "=================================================================\n",
            " conv2d (Conv2D)             (None, 26, 26, 32)        320       \n",
            "                                                                 \n",
            " max_pooling2d (MaxPooling2  (None, 13, 13, 32)        0         \n",
            " D)                                                              \n",
            "                                                                 \n",
            " conv2d_1 (Conv2D)           (None, 11, 11, 64)        18496     \n",
            "                                                                 \n",
            " max_pooling2d_1 (MaxPoolin  (None, 5, 5, 64)          0         \n",
            " g2D)                                                            \n",
            "                                                                 \n",
            " flatten (Flatten)           (None, 1600)              0         \n",
            "                                                                 \n",
            " dense (Dense)               (None, 64)                102464    \n",
            "                                                                 \n",
            " dense_1 (Dense)             (None, 10)                650       \n",
            "                                                                 \n",
            "=================================================================\n",
            "Total params: 121930 (476.29 KB)\n",
            "Trainable params: 121930 (476.29 KB)\n",
            "Non-trainable params: 0 (0.00 Byte)\n",
            "_________________________________________________________________\n"
          ]
        }
      ]
    },
    {
      "cell_type": "code",
      "source": [
        "plt.plot(history.history['accuracy'], label='accuracy')\n",
        "plt.plot(history.history['val_accuracy'], label = 'val_accuracy')"
      ],
      "metadata": {
        "colab": {
          "base_uri": "https://localhost:8080/",
          "height": 447
        },
        "id": "TRAWgEgL7d9A",
        "outputId": "1c9a3186-686d-4ffa-9436-e67d01b8ae20"
      },
      "execution_count": 18,
      "outputs": [
        {
          "output_type": "execute_result",
          "data": {
            "text/plain": [
              "[<matplotlib.lines.Line2D at 0x7a4593012a40>]"
            ]
          },
          "metadata": {},
          "execution_count": 18
        },
        {
          "output_type": "display_data",
          "data": {
            "text/plain": [
              "<Figure size 640x480 with 1 Axes>"
            ],
            "image/png": "[encoded data removed]"
          },
          "metadata": {}
        }
      ]
    },
    {
      "cell_type": "code",
      "source": [
        "plt.plot(history.history['loss'], label='loss')\n",
        "plt.plot(history.history['val_loss'], label = 'val_loss')"
      ],
      "metadata": {
        "colab": {
          "base_uri": "https://localhost:8080/",
          "height": 447
        },
        "id": "mKTSjela7hpH",
        "outputId": "3bc392a5-0525-4fa6-b646-85241a74dea5"
      },
      "execution_count": 19,
      "outputs": [
        {
          "output_type": "execute_result",
          "data": {
            "text/plain": [
              "[<matplotlib.lines.Line2D at 0x7a4592f02320>]"
            ]
          },
          "metadata": {},
          "execution_count": 19
        },
        {
          "output_type": "display_data",
          "data": {
            "text/plain": [
              "<Figure size 640x480 with 1 Axes>"
            ],
            "image/png": "[encoded data removed]"
          },
          "metadata": {}
        }
      ]
    },
    {
      "cell_type": "markdown",
      "metadata": {
        "id": "tMEeKi_bAGGF"
      },
      "source": [
        "Si definieron todo bien, deberían ver una tabla como esta:\n",
        "\n",
        "```\n",
        "Model: \"sequential\"\n",
        "_________________________________________________________________\n",
        " Layer (type)                Output Shape              Param #   \n",
        "=================================================================\n",
        " conv2d (Conv2D)             (None, 26, 26, 32)        320       \n",
        "                                                                 \n",
        " max_pooling2d (MaxPooling2D  (None, 13, 13, 32)       0         \n",
        " )                                                               \n",
        "                                                                 \n",
        " conv2d_1 (Conv2D)           (None, 11, 11, 64)        18496     \n",
        "                                                                 \n",
        " max_pooling2d_1 (MaxPooling  (None, 5, 5, 64)         0         \n",
        " 2D)                                                             \n",
        "                                                                 \n",
        "=================================================================\n",
        "Total params: 18,816\n",
        "Trainable params: 18,816\n",
        "Non-trainable params: 0\n",
        "_________________________________________________________________\n",
        "\n",
        "```\n",
        "\n"
      ]
    },
    {
      "cell_type": "code",
      "source": [
        "#predecir para x_train[0]\n",
        "model.predict(x_train[0:1])"
      ],
      "metadata": {
        "colab": {
          "base_uri": "https://localhost:8080/"
        },
        "id": "iyvl7EZ285-v",
        "outputId": "bfd5623c-a689-46f7-9763-30a670103b5c"
      },
      "execution_count": 26,
      "outputs": [
        {
          "output_type": "stream",
          "name": "stdout",
          "text": [
            "1/1 [==============================] - 0s 280ms/step\n"
          ]
        },
        {
          "output_type": "execute_result",
          "data": {
            "text/plain": [
              "array([[8.7088073e-18, 1.2280504e-12, 3.5124606e-14, 1.1292828e-03,\n",
              "        3.1652645e-14, 9.9887067e-01, 7.6814877e-16, 2.2024348e-11,\n",
              "        1.8889400e-08, 1.7636905e-08]], dtype=float32)"
            ]
          },
          "metadata": {},
          "execution_count": 26
        }
      ]
    },
    {
      "cell_type": "markdown",
      "metadata": {
        "id": "KNMfVOilAVff"
      },
      "source": [
        "Ahora, en la tabla anterior pordemos ver las dimensiones de salida de cada capa.\n",
        "\n",
        "Teniendo esto en cuenta, agregar al modelo:\n",
        "\n",
        "- Flatten para aplanar la salida\n",
        "- Una capa densa de 64 neuronas con activación relu\n",
        "- La capa de salida: ¿Cómo debe ser esta capa? ¿De qué tipo? ¿Cuántas neuronas? ¿Qué función de activación?"
      ]
    },
    {
      "cell_type": "markdown",
      "metadata": {
        "id": "TY-7Jxq-Arje"
      },
      "source": [
        "Ahora entrenamos el modelo:"
      ]
    },
    {
      "cell_type": "code",
      "metadata": {
        "id": "X9iqV4O15rkR"
      },
      "source": [
        "model.compile(optimizer='adam',\n",
        "              loss=tf.keras.losses.CategoricalCrossentropy(),\n",
        "              metrics=['accuracy'])"
      ],
      "execution_count": null,
      "outputs": []
    },
    {
      "cell_type": "code",
      "metadata": {
        "id": "f8XC4ac06aND"
      },
      "source": [
        "history = model.fit(X_train, y_train, epochs=10, validation_data=(X_test, y_test))"
      ],
      "execution_count": null,
      "outputs": []
    },
    {
      "cell_type": "markdown",
      "metadata": {
        "id": "BQAIAgkcAt79"
      },
      "source": [
        "Visualizamos métricas"
      ]
    },
    {
      "cell_type": "code",
      "metadata": {
        "id": "By__5IsH6BB6",
        "colab": {
          "base_uri": "https://localhost:8080/",
          "height": 472
        },
        "outputId": "0656a339-84ff-4a23-d442-56fda3973495"
      },
      "source": [
        "plt.plot(history.history['accuracy'], label='accuracy')\n",
        "plt.plot(history.history['val_accuracy'], label = 'val_accuracy')\n",
        "plt.xlabel('Epoch')\n",
        "plt.ylabel('Accuracy')\n",
        "plt.ylim([0.5, 1])\n",
        "plt.legend(loc='lower right')\n",
        "\n",
        "test_loss, test_acc = model.evaluate(X_test,  y_test, verbose=2)"
      ],
      "execution_count": 27,
      "outputs": [
        {
          "output_type": "stream",
          "name": "stdout",
          "text": [
            "313/313 - 1s - loss: 5.7876 - accuracy: 0.9913 - 858ms/epoch - 3ms/step\n"
          ]
        },
        {
          "output_type": "display_data",
          "data": {
            "text/plain": [
              "<Figure size 640x480 with 1 Axes>"
            ],
            "image/png": "[encoded data removed]"
          },
          "metadata": {}
        }
      ]
    },
    {
      "cell_type": "code",
      "source": [
        "plt.plot(history.history['loss'], label='loss')\n",
        "plt.plot(history.history['val_loss'], label = 'val_loss')\n",
        "plt.xlabel('Epoch')\n",
        "plt.ylabel('Loss')\n",
        "plt.legend(loc='upper right')"
      ],
      "metadata": {
        "colab": {
          "base_uri": "https://localhost:8080/",
          "height": 466
        },
        "id": "i6c7pAncIrFy",
        "outputId": "3a350231-bad6-4a4d-8c88-ea8315a32c5b"
      },
      "execution_count": 29,
      "outputs": [
        {
          "output_type": "execute_result",
          "data": {
            "text/plain": [
              "<matplotlib.legend.Legend at 0x7a4580701f30>"
            ]
          },
          "metadata": {},
          "execution_count": 29
        },
        {
          "output_type": "display_data",
          "data": {
            "text/plain": [
              "<Figure size 640x480 with 1 Axes>"
            ],
            "image/png": "[encoded data removed]"
          },
          "metadata": {}
        }
      ]
    },
    {
      "cell_type": "code",
      "metadata": {
        "id": "x5aAu8KT6H0k",
        "colab": {
          "base_uri": "https://localhost:8080/"
        },
        "outputId": "067d3755-0a21-4ac0-a658-70f60f70b5b8"
      },
      "source": [
        "print(test_acc)"
      ],
      "execution_count": 28,
      "outputs": [
        {
          "output_type": "stream",
          "name": "stdout",
          "text": [
            "0.9912999868392944\n"
          ]
        }
      ]
    },
    {
      "cell_type": "markdown",
      "metadata": {
        "id": "aULtH6FmAv8X"
      },
      "source": [
        "Pueden jugar agregando o quitando capas al modelo"
      ]
    }
  ]
}